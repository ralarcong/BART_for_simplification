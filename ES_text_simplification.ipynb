{
 "cells": [
  {
   "cell_type": "code",
   "execution_count": 1,
   "metadata": {},
   "outputs": [],
   "source": [
    "import os\n",
    "os.environ[\"TOKENIZERS_PARALLELISM\"] = \"false\""
   ]
  },
  {
   "cell_type": "code",
   "execution_count": 2,
   "metadata": {},
   "outputs": [
    {
     "name": "stderr",
     "output_type": "stream",
     "text": [
      "/home/ralarcon/.local/lib/python3.8/site-packages/tqdm/auto.py:22: TqdmWarning: IProgress not found. Please update jupyter and ipywidgets. See https://ipywidgets.readthedocs.io/en/stable/user_install.html\n",
      "  from .autonotebook import tqdm as notebook_tqdm\n",
      "/usr/lib/python3/dist-packages/requests/__init__.py:89: RequestsDependencyWarning: urllib3 (1.26.11) or chardet (3.0.4) doesn't match a supported version!\n",
      "  warnings.warn(\"urllib3 ({}) or chardet ({}) doesn't match a supported \"\n",
      "2023-02-28 10:44:17.084569: I tensorflow/core/util/util.cc:169] oneDNN custom operations are on. You may see slightly different numerical results due to floating-point round-off errors from different computation orders. To turn them off, set the environment variable `TF_ENABLE_ONEDNN_OPTS=0`.\n"
     ]
    }
   ],
   "source": [
    "import pandas as pd\n",
    "from rouge_score import rouge_scorer\n",
    "from bert_score import score\n",
    "import torch\n",
    "from fastai.text.all import *\n",
    "from blurr.text.data.all import *\n",
    "from blurr.text.modeling.all import *\n",
    "import nltk\n",
    "from transformers import MBartForConditionalGeneration, MBartTokenizer, MBart50TokenizerFast"
   ]
  },
  {
   "cell_type": "code",
   "execution_count": 3,
   "metadata": {
    "id": "mcwvflAfyST8"
   },
   "outputs": [
    {
     "name": "stdout",
     "output_type": "stream",
     "text": [
      "3665\n"
     ]
    },
    {
     "name": "stderr",
     "output_type": "stream",
     "text": [
      "/tmp/ipykernel_237361/2813172692.py:4: FutureWarning: The error_bad_lines argument has been deprecated and will be removed in a future version. Use on_bad_lines in the future.\n",
      "\n",
      "\n",
      "  df = pd.read_csv('/home/ralarcon/Data_augmentation/split/train.csv', error_bad_lines=False, sep=';')\n"
     ]
    },
    {
     "data": {
      "text/html": [
       "<div>\n",
       "<style scoped>\n",
       "    .dataframe tbody tr th:only-of-type {\n",
       "        vertical-align: middle;\n",
       "    }\n",
       "\n",
       "    .dataframe tbody tr th {\n",
       "        vertical-align: top;\n",
       "    }\n",
       "\n",
       "    .dataframe thead th {\n",
       "        text-align: right;\n",
       "    }\n",
       "</style>\n",
       "<table border=\"1\" class=\"dataframe\">\n",
       "  <thead>\n",
       "    <tr style=\"text-align: right;\">\n",
       "      <th></th>\n",
       "      <th>cod</th>\n",
       "      <th>original</th>\n",
       "      <th>simplified</th>\n",
       "    </tr>\n",
       "  </thead>\n",
       "  <tbody>\n",
       "    <tr>\n",
       "      <th>0</th>\n",
       "      <td>6387</td>\n",
       "      <td>Esta iniciativa hace hincapié en la importancia de limpiarse la lengua, ya que si se lleva a cabo una o dos veces al día, además de prevenir diversas patologías orales, se contribuye a la mejora del sentido del gusto</td>\n",
       "      <td>Esta iniciativa hace hincapié en la importancia de limpiarse la lengua, ya que si se lleva a cabo una o dos veces al día, además de prevenir diversas enfermedades orales, se contribuye a la mejora del sentido del gusto</td>\n",
       "    </tr>\n",
       "    <tr>\n",
       "      <th>1</th>\n",
       "      <td>8492</td>\n",
       "      <td>Trastornos del sistema inmune Raras: reacciones anafilÃ¡cticas/anafilactoides, incluyendo casos muy raros de urticaria, angioedema y reacciones graves con sÃ­ntomas respiratorios y circulatorios.</td>\n",
       "      <td>Trastornos del sistema inmune Raras: reacciones anafilÃ¡cticas/anafilactoides, incluyendo casos muy raros de urticaria, hinchazÃ³n debajo de la piel y reacciones graves con sÃ­ntomas respiratorios y circulatorios.</td>\n",
       "    </tr>\n",
       "    <tr>\n",
       "      <th>2</th>\n",
       "      <td>7926</td>\n",
       "      <td>TambiÃ©n puede aparecer angioedema de intensidad leve, por ejemplo de afectaciÃ³n maleolar.</td>\n",
       "      <td>TambiÃ©n puede aparecer hinchazÃ³n debajo de la piel de intensidad leve, por ejemplo de afectaciÃ³n maleolar.</td>\n",
       "    </tr>\n",
       "    <tr>\n",
       "      <th>3</th>\n",
       "      <td>8072</td>\n",
       "      <td>Frecuentes: temblores.</td>\n",
       "      <td>Frecuentes: temblor.</td>\n",
       "    </tr>\n",
       "    <tr>\n",
       "      <th>4</th>\n",
       "      <td>776</td>\n",
       "      <td>Todas las personas y entidades interesadas en asistir a las I Jornadas Intergeneracionales sobre prevención de los Malos Tratos y Abusos a Personas Mayores que se celebrarán en Madrid los días 26 y 27 de noviembre en la Sala Europa de la Comisión Europea de Madrid, ya pueden inscribirse como asistentes</td>\n",
       "      <td>Todas las personas y entidades interesadas en asistir a las I Jornadas Intergeneracionales sobre prevención de los Malos Tratos y Abusos a Personas Mayores que se harán en Madrid los días 26 y 27 de noviembre en la Sala Europa de la Comisión Europea de Madrid, ya pueden inscribirse como asistentes</td>\n",
       "    </tr>\n",
       "    <tr>\n",
       "      <th>...</th>\n",
       "      <td>...</td>\n",
       "      <td>...</td>\n",
       "      <td>...</td>\n",
       "    </tr>\n",
       "    <tr>\n",
       "      <th>7294</th>\n",
       "      <td>5991</td>\n",
       "      <td>Hoy, 21 de marzo, se conmemora el Día Internacional de la Cefalea en Racimos, el segundo tipo de cefalea primaria más frecuente tras la migraña</td>\n",
       "      <td>Hoy, 21 de marzo, se recuerda el Día Internacional de la Cefalea en Racimos, el segundo tipo de cefalea primaria más frecuente tras la migraña</td>\n",
       "    </tr>\n",
       "    <tr>\n",
       "      <th>7295</th>\n",
       "      <td>9047</td>\n",
       "      <td>Trastornos del sistema nervioso Poco frecuentes: mareos, cefalea, somnolencia.</td>\n",
       "      <td>Trastornos del sistema nervioso Poco frecuentes: mareo, dolor de cabeza, somnolencia.</td>\n",
       "    </tr>\n",
       "    <tr>\n",
       "      <th>7296</th>\n",
       "      <td>3089</td>\n",
       "      <td>\"El impacto de la «X Solidaria» es un ejemplo paradigmático de eficacia, pues son pocas las políticas públicas que consiguen hacer tanto bien con tan pocos recursos\", señaló la secretaria de Estado</td>\n",
       "      <td>\"El impacto de la «X Solidaria» es un ejemplo modélico de eficacia, pues son pocas las políticas públicas que consiguen hacer tanto bien con tan pocos recursos\", señaló la secretaria de Estado</td>\n",
       "    </tr>\n",
       "    <tr>\n",
       "      <th>7297</th>\n",
       "      <td>7817</td>\n",
       "      <td>Dentro de esta iniciativa y con motivo del Día de la Solidaridad Intergeneracional, la Plataforma Canal Sénior han recopilado una gran variedad de cursos gratuitos, con el objetivo de que cualquier persona mayor pueda aprender durante esta cuarentena para estar más conectada con su entorno, a través de cursos online que pueden realizarse en cualquier momento sobre WhatsApp, cursos de consumo o cursos orientados a aprender a comprar.</td>\n",
       "      <td>Dentro de esta iniciativa y con motivo del Día de la Solidaridad Intergeneracional, la Plataforma Canal Sénior han seleccionado una gran variedad de cursos gratuitos, con el objetivo de que cualquier persona mayor pueda aprender durante esta cuarentena para estar más conectada con su entorno, a través de cursos online que pueden realizarse en cualquier momento sobre WhatsApp, cursos de consumo o cursos orientados a aprender a comprar.</td>\n",
       "    </tr>\n",
       "    <tr>\n",
       "      <th>7298</th>\n",
       "      <td>66</td>\n",
       "      <td>El punto de partida de este proceso fue un análisis exploratorio inicial de 138 técnicas o procedimientos, basado en una revisión de las publicaciones científicas (revisiones sistemáticas y ensayos clínicos)</td>\n",
       "      <td>El punto de partida de este proceso fue un estudio exploratorio inicial de 138 técnicas o procedimientos, basado en una revisión de las publicaciones científicas (revisiones sistemáticas y ensayos clínicos)</td>\n",
       "    </tr>\n",
       "  </tbody>\n",
       "</table>\n",
       "<p>7299 rows × 3 columns</p>\n",
       "</div>"
      ],
      "text/plain": [
       "       cod  \\\n",
       "0     6387   \n",
       "1     8492   \n",
       "2     7926   \n",
       "3     8072   \n",
       "4      776   \n",
       "...    ...   \n",
       "7294  5991   \n",
       "7295  9047   \n",
       "7296  3089   \n",
       "7297  7817   \n",
       "7298    66   \n",
       "\n",
       "                                                                                                                                                                                                                                                                                                                                                                                                                                                  original  \\\n",
       "0                                                                                                                                                                                                                                 Esta iniciativa hace hincapié en la importancia de limpiarse la lengua, ya que si se lleva a cabo una o dos veces al día, además de prevenir diversas patologías orales, se contribuye a la mejora del sentido del gusto   \n",
       "1                                                                                                                                                                                                                                                      Trastornos del sistema inmune Raras: reacciones anafilÃ¡cticas/anafilactoides, incluyendo casos muy raros de urticaria, angioedema y reacciones graves con sÃ­ntomas respiratorios y circulatorios.   \n",
       "2                                                                                                                                                                                                                                                                                                                                                              TambiÃ©n puede aparecer angioedema de intensidad leve, por ejemplo de afectaciÃ³n maleolar.   \n",
       "3                                                                                                                                                                                                                                                                                                                                                                                                                                   Frecuentes: temblores.   \n",
       "4                                                                                                                                          Todas las personas y entidades interesadas en asistir a las I Jornadas Intergeneracionales sobre prevención de los Malos Tratos y Abusos a Personas Mayores que se celebrarán en Madrid los días 26 y 27 de noviembre en la Sala Europa de la Comisión Europea de Madrid, ya pueden inscribirse como asistentes   \n",
       "...                                                                                                                                                                                                                                                                                                                                                                                                                                                    ...   \n",
       "7294                                                                                                                                                                                                                                                                                                       Hoy, 21 de marzo, se conmemora el Día Internacional de la Cefalea en Racimos, el segundo tipo de cefalea primaria más frecuente tras la migraña   \n",
       "7295                                                                                                                                                                                                                                                                                                                                                                        Trastornos del sistema nervioso Poco frecuentes: mareos, cefalea, somnolencia.   \n",
       "7296                                                                                                                                                                                                                                                 \"El impacto de la «X Solidaria» es un ejemplo paradigmático de eficacia, pues son pocas las políticas públicas que consiguen hacer tanto bien con tan pocos recursos\", señaló la secretaria de Estado   \n",
       "7297  Dentro de esta iniciativa y con motivo del Día de la Solidaridad Intergeneracional, la Plataforma Canal Sénior han recopilado una gran variedad de cursos gratuitos, con el objetivo de que cualquier persona mayor pueda aprender durante esta cuarentena para estar más conectada con su entorno, a través de cursos online que pueden realizarse en cualquier momento sobre WhatsApp, cursos de consumo o cursos orientados a aprender a comprar.   \n",
       "7298                                                                                                                                                                                                                                       El punto de partida de este proceso fue un análisis exploratorio inicial de 138 técnicas o procedimientos, basado en una revisión de las publicaciones científicas (revisiones sistemáticas y ensayos clínicos)   \n",
       "\n",
       "                                                                                                                                                                                                                                                                                                                                                                                                                                                  simplified  \n",
       "0                                                                                                                                                                                                                                 Esta iniciativa hace hincapié en la importancia de limpiarse la lengua, ya que si se lleva a cabo una o dos veces al día, además de prevenir diversas enfermedades orales, se contribuye a la mejora del sentido del gusto  \n",
       "1                                                                                                                                                                                                                                      Trastornos del sistema inmune Raras: reacciones anafilÃ¡cticas/anafilactoides, incluyendo casos muy raros de urticaria, hinchazÃ³n debajo de la piel y reacciones graves con sÃ­ntomas respiratorios y circulatorios.  \n",
       "2                                                                                                                                                                                                                                                                                                                                              TambiÃ©n puede aparecer hinchazÃ³n debajo de la piel de intensidad leve, por ejemplo de afectaciÃ³n maleolar.  \n",
       "3                                                                                                                                                                                                                                                                                                                                                                                                                                       Frecuentes: temblor.  \n",
       "4                                                                                                                                                 Todas las personas y entidades interesadas en asistir a las I Jornadas Intergeneracionales sobre prevención de los Malos Tratos y Abusos a Personas Mayores que se harán en Madrid los días 26 y 27 de noviembre en la Sala Europa de la Comisión Europea de Madrid, ya pueden inscribirse como asistentes  \n",
       "...                                                                                                                                                                                                                                                                                                                                                                                                                                                      ...  \n",
       "7294                                                                                                                                                                                                                                                                                                          Hoy, 21 de marzo, se recuerda el Día Internacional de la Cefalea en Racimos, el segundo tipo de cefalea primaria más frecuente tras la migraña  \n",
       "7295                                                                                                                                                                                                                                                                                                                                                                   Trastornos del sistema nervioso Poco frecuentes: mareo, dolor de cabeza, somnolencia.  \n",
       "7296                                                                                                                                                                                                                                                        \"El impacto de la «X Solidaria» es un ejemplo modélico de eficacia, pues son pocas las políticas públicas que consiguen hacer tanto bien con tan pocos recursos\", señaló la secretaria de Estado  \n",
       "7297  Dentro de esta iniciativa y con motivo del Día de la Solidaridad Intergeneracional, la Plataforma Canal Sénior han seleccionado una gran variedad de cursos gratuitos, con el objetivo de que cualquier persona mayor pueda aprender durante esta cuarentena para estar más conectada con su entorno, a través de cursos online que pueden realizarse en cualquier momento sobre WhatsApp, cursos de consumo o cursos orientados a aprender a comprar.  \n",
       "7298                                                                                                                                                                                                                                          El punto de partida de este proceso fue un estudio exploratorio inicial de 138 técnicas o procedimientos, basado en una revisión de las publicaciones científicas (revisiones sistemáticas y ensayos clínicos)  \n",
       "\n",
       "[7299 rows x 3 columns]"
      ]
     },
     "execution_count": 3,
     "metadata": {},
     "output_type": "execute_result"
    }
   ],
   "source": [
    "#Get data\n",
    "df = pd.read_csv('Datasetsv2/train.csv', error_bad_lines=False, sep=';')\n",
    "df = df[['cod','original','simplified']]\n",
    "\n",
    "df = df.applymap(str)\n",
    "articles = df\n",
    "\n",
    "\n",
    "n_labels = len(articles[\"original\"].unique())\n",
    "print(n_labels)\n",
    "articles"
   ]
  },
  {
   "cell_type": "code",
   "execution_count": null,
   "metadata": {
    "id": "B6EqLXgH2pw9"
   },
   "outputs": [],
   "source": [
    "#Import model: Either mbart base or Spanish finetuned\n",
    "#pretrained_model_name = \"facebook/mbart-large-50\"\n",
    "pretrained_model_name = \"eslamxm/MBART-finetuned-Spanish\"\n",
    "hf_arch, hf_config, hf_tokenizer, hf_model = get_hf_objects(pretrained_model_name, model_cls=MBartForConditionalGeneration)\n",
    "\n",
    "hf_tokenizer = MBart50TokenizerFast.from_pretrained(pretrained_model_name, src_lang=\"es_XX\", tgt_lang=\"es_XX\")\n",
    "\n",
    "hf_arch, type(hf_config), type(hf_tokenizer), type(hf_model)\n"
   ]
  },
  {
   "cell_type": "code",
   "execution_count": 5,
   "metadata": {},
   "outputs": [],
   "source": [
    "text_gen_kwargs = {}\n",
    "text_gen_kwargs = {'length_penalty': 1.0, 'max_length': 50, 'min_length': 10, 'num_beams': 4}"
   ]
  },
  {
   "cell_type": "code",
   "execution_count": 6,
   "metadata": {},
   "outputs": [],
   "source": [
    "generate_func_args = list(inspect.signature(hf_model.generate).parameters.keys())\n",
    "for k in text_gen_kwargs.copy():\n",
    "    if k not in generate_func_args:\n",
    "        del text_gen_kwargs[k]"
   ]
  },
  {
   "cell_type": "code",
   "execution_count": 7,
   "metadata": {},
   "outputs": [],
   "source": [
    "if hf_arch == \"mbart\":\n",
    "    text_gen_kwargs[\"decoder_start_token_id\"] = hf_tokenizer.get_vocab()[\"es_XX\"]\n",
    "    \n",
    "tok_kwargs = {}"
   ]
  },
  {
   "cell_type": "code",
   "execution_count": 8,
   "metadata": {
    "id": "mOAi2qMD21pG"
   },
   "outputs": [],
   "source": [
    "batch_tokenize_tfm = Seq2SeqBatchTokenizeTransform(\n",
    "    hf_arch,\n",
    "    hf_config,\n",
    "    hf_tokenizer,\n",
    "    hf_model,\n",
    "    max_length=256,\n",
    "    max_target_length=130,\n",
    "    tok_kwargs=tok_kwargs,\n",
    "    text_gen_kwargs=text_gen_kwargs,\n",
    ")\n",
    "\n",
    "blocks = (Seq2SeqTextBlock(batch_tokenize_tfm=batch_tokenize_tfm), noop)\n",
    "\n",
    "dblock = DataBlock(blocks=blocks, get_x=ColReader(\"original\"), get_y=ColReader(\"simplified\"), splitter=RandomSplitter())\n"
   ]
  },
  {
   "cell_type": "code",
   "execution_count": 12,
   "metadata": {},
   "outputs": [],
   "source": [
    "dls = dblock.dataloaders(articles, bs=2)"
   ]
  },
  {
   "cell_type": "code",
   "execution_count": 13,
   "metadata": {
    "id": "L-LX7Bf23Yp1"
   },
   "outputs": [
    {
     "data": {
      "text/html": [
       "<table border=\"1\" class=\"dataframe\">\n",
       "  <thead>\n",
       "    <tr style=\"text-align: right;\">\n",
       "      <th></th>\n",
       "      <th>text</th>\n",
       "      <th>target</th>\n",
       "    </tr>\n",
       "  </thead>\n",
       "  <tbody>\n",
       "    <tr>\n",
       "      <th>0</th>\n",
       "      <td>es_XX Sistema Reacciones adversas del fÃ¡rmaco Trastornos del sistema inmunolÃ3gico Frecuencia no conocida Hipersensibilidad, angioedema, reacciÃ3n alÃ©rgica Trastornos de la sangre y del sistema linfÃ¡tico Raras Neutropenia Trastornos del metabolismo y de la nutriciÃ3n Frecuentes Aumento del apetito Poco frecuentes Anorexia Raras Hipoglucemia Trastornos psiquiÃ¡tricos Frecuentes Estado de Ã¡nimo eufÃ3rico, confusiÃ3n, irritabilidad, lÃ­bido Poco frecuentes Alucinaciones, crisis de angustia, inquietud, agitaciÃ3n, depresiÃ3n, Raras DesinhibiciÃ3n, estado de Ã¡nimo elevado Trastornos del sistema nervioso Muy frecuentes Mareos, somnolencia Frecuentes Ataxia, coordinaciÃ3n anormal, temblor, disartria, alteraciÃ3n de la Poco frecuentes SÃ­ncope, estupor, mioclono, hiperactividad psicomotora, ageusia, Ra&lt;/s&gt;</td>\n",
       "      <td>Sistema Reacciones adversas del fÃ¡rmaco Trastornos del sistema inmunolÃ3gico Frecuencia no conocida Hipersensibilidad, hinchazÃ3n debajo de la piel, alergia Trastornos de la sangre y del sistema linfÃ¡tico Raras Neutropenia Trastornos del metabolismo y de la nutriciÃ3n Frecuentes Aumento del apetito Poco frecuentes Anorexia Raras Hipoglucemia Trastornos psiquiÃ¡tricos Frecuentes Estado de Ã¡nimo eufÃ3rico, confusiÃ3n</td>\n",
       "    </tr>\n",
       "    <tr>\n",
       "      <th>1</th>\n",
       "      <td>es_XX Tabla 1: Reacciones adversas notificadas en ensayos clÃ­nicos controlados fase 3 a largo plazo Ãrganos y Sistemas /TÃ©rminos de Frecuencia reacciones adversas Reacciones Frecuente Muy frecuente Transtornos del metabolismo y de la nutriciÃ3n Hipoglucemia (con metformina y una X 2 sulfonilurea) Hipoglucemia (con una sulfonilurea) X DisminuciÃ3n del apetito X Transtornos del sistema nervioso Dolor de cabeza 2 X Mareo X Transtornos gastrointestinales NÃ¡useas X VÃ3mitos X Diarrea X Dispepsia X Dolor abdominal X Enfermedad de reflujo gastroesofÃ¡gico X DistensiÃ3n abdominal X Transtornos de la piel y del tejido subcutÃ¡neo Hiperhidrosis 2 X Transtornos generales y alteraciones en el lugar de administraciÃ3n SensaciÃ3n de nerviosismo X 2 Astenia X N= 1788 pacientes tratados con BYETTA, por intenciÃ3n de tratar (ITT).&lt;/s&gt;&lt;pad&gt;</td>\n",
       "      <td>Tabla 1: Reacciones adversas notificadas en ensayos clÃ­nicos controlados fase 3 a largo plazo Ãrganos y Sistemas /TÃ©rminos de Frecuencia reacciones adversas Reacciones Frecuente Muy frecuente Transtornos del metabolismo y de la nutriciÃ3n Hipoglucemia (con metformina y una X 2 sulfonilurea) Hipoglucemia (con una sulfonilurea) X DisminuciÃ3n del apetito X Transtornos del sistema nervioso Dolor de cabeza 2 X Mareo X Transtornos</td>\n",
       "    </tr>\n",
       "  </tbody>\n",
       "</table>"
      ],
      "text/plain": [
       "<IPython.core.display.HTML object>"
      ]
     },
     "metadata": {},
     "output_type": "display_data"
    }
   ],
   "source": [
    "dls.show_batch(dataloaders=dls, max_n=3)"
   ]
  },
  {
   "cell_type": "code",
   "execution_count": 14,
   "metadata": {
    "id": "4IZs28cD3i70"
   },
   "outputs": [],
   "source": [
    "seq2seq_metrics = {\n",
    "    \"rouge\": {\n",
    "        \"compute_kwargs\": {\"rouge_types\": [\"rouge1\", \"rouge2\", \"rougeL\", \"rougeLsum\"], \"use_stemmer\": True},\n",
    "        \"returns\": [\"rouge1\", \"rouge2\", \"rougeL\", \"rougeLsum\"],\n",
    "    },\n",
    "    \"bertscore\": {\"compute_kwargs\": {\"lang\": \"es\"}, \"returns\": [\"precision\", \"recall\", \"f1\"]},\n",
    "    \"bleu\":{\"returns\":\"bleu\"},\n",
    "}"
   ]
  },
  {
   "cell_type": "code",
   "execution_count": 15,
   "metadata": {
    "id": "IoJkBusU3mNz"
   },
   "outputs": [
    {
     "data": {
      "text/html": [
       "\n",
       "<style>\n",
       "    /* Turns off some styling */\n",
       "    progress {\n",
       "        /* gets rid of default border in Firefox and Opera. */\n",
       "        border: none;\n",
       "        /* Needs to be in here for Safari polyfill so background images work as expected. */\n",
       "        background-size: auto;\n",
       "    }\n",
       "    progress:not([value]), progress:not([value])::-webkit-progress-bar {\n",
       "        background: repeating-linear-gradient(45deg, #7e7e7e, #7e7e7e 10px, #5c5c5c 10px, #5c5c5c 20px);\n",
       "    }\n",
       "    .progress-bar-interrupted, .progress-bar-interrupted::-webkit-progress-bar {\n",
       "        background: #F44336;\n",
       "    }\n",
       "</style>\n"
      ],
      "text/plain": [
       "<IPython.core.display.HTML object>"
      ]
     },
     "metadata": {},
     "output_type": "display_data"
    },
    {
     "data": {
      "text/html": [],
      "text/plain": [
       "<IPython.core.display.HTML object>"
      ]
     },
     "metadata": {},
     "output_type": "display_data"
    },
    {
     "data": {
      "text/plain": [
       "BaseModelWrapper (Input shape: 2 x 256)\n",
       "============================================================================\n",
       "Layer (type)         Output Shape         Param #    Trainable \n",
       "============================================================================\n",
       "                     2 x 130 x 1024      \n",
       "Embedding                                 256055296  False     \n",
       "Embedding                                 256055296  False     \n",
       "____________________________________________________________________________\n",
       "                     2 x 1024            \n",
       "MBartLearnedPositionalEmbedding                      1050624    False     \n",
       "Linear                                    1049600    False     \n",
       "Linear                                    1049600    False     \n",
       "Linear                                    1049600    False     \n",
       "Linear                                    1049600    False     \n",
       "LayerNorm                                 2048       True      \n",
       "GELUActivation                                                 \n",
       "____________________________________________________________________________\n",
       "                     2 x 256 x 4096      \n",
       "Linear                                    4198400    False     \n",
       "____________________________________________________________________________\n",
       "                     2 x 256 x 1024      \n",
       "Linear                                    4195328    False     \n",
       "LayerNorm                                 2048       True      \n",
       "Linear                                    1049600    False     \n",
       "Linear                                    1049600    False     \n",
       "Linear                                    1049600    False     \n",
       "Linear                                    1049600    False     \n",
       "LayerNorm                                 2048       True      \n",
       "GELUActivation                                                 \n",
       "____________________________________________________________________________\n",
       "                     2 x 256 x 4096      \n",
       "Linear                                    4198400    False     \n",
       "____________________________________________________________________________\n",
       "                     2 x 256 x 1024      \n",
       "Linear                                    4195328    False     \n",
       "LayerNorm                                 2048       True      \n",
       "Linear                                    1049600    False     \n",
       "Linear                                    1049600    False     \n",
       "Linear                                    1049600    False     \n",
       "Linear                                    1049600    False     \n",
       "LayerNorm                                 2048       True      \n",
       "GELUActivation                                                 \n",
       "____________________________________________________________________________\n",
       "                     2 x 256 x 4096      \n",
       "Linear                                    4198400    False     \n",
       "____________________________________________________________________________\n",
       "                     2 x 256 x 1024      \n",
       "Linear                                    4195328    False     \n",
       "LayerNorm                                 2048       True      \n",
       "Linear                                    1049600    False     \n",
       "Linear                                    1049600    False     \n",
       "Linear                                    1049600    False     \n",
       "Linear                                    1049600    False     \n",
       "LayerNorm                                 2048       True      \n",
       "GELUActivation                                                 \n",
       "____________________________________________________________________________\n",
       "                     2 x 256 x 4096      \n",
       "Linear                                    4198400    False     \n",
       "____________________________________________________________________________\n",
       "                     2 x 256 x 1024      \n",
       "Linear                                    4195328    False     \n",
       "LayerNorm                                 2048       True      \n",
       "Linear                                    1049600    False     \n",
       "Linear                                    1049600    False     \n",
       "Linear                                    1049600    False     \n",
       "Linear                                    1049600    False     \n",
       "LayerNorm                                 2048       True      \n",
       "GELUActivation                                                 \n",
       "____________________________________________________________________________\n",
       "                     2 x 256 x 4096      \n",
       "Linear                                    4198400    False     \n",
       "____________________________________________________________________________\n",
       "                     2 x 256 x 1024      \n",
       "Linear                                    4195328    False     \n",
       "LayerNorm                                 2048       True      \n",
       "Linear                                    1049600    False     \n",
       "Linear                                    1049600    False     \n",
       "Linear                                    1049600    False     \n",
       "Linear                                    1049600    False     \n",
       "LayerNorm                                 2048       True      \n",
       "GELUActivation                                                 \n",
       "____________________________________________________________________________\n",
       "                     2 x 256 x 4096      \n",
       "Linear                                    4198400    False     \n",
       "____________________________________________________________________________\n",
       "                     2 x 256 x 1024      \n",
       "Linear                                    4195328    False     \n",
       "LayerNorm                                 2048       True      \n",
       "Linear                                    1049600    False     \n",
       "Linear                                    1049600    False     \n",
       "Linear                                    1049600    False     \n",
       "Linear                                    1049600    False     \n",
       "LayerNorm                                 2048       True      \n",
       "GELUActivation                                                 \n",
       "____________________________________________________________________________\n",
       "                     2 x 256 x 4096      \n",
       "Linear                                    4198400    False     \n",
       "____________________________________________________________________________\n",
       "                     2 x 256 x 1024      \n",
       "Linear                                    4195328    False     \n",
       "LayerNorm                                 2048       True      \n",
       "Linear                                    1049600    False     \n",
       "Linear                                    1049600    False     \n",
       "Linear                                    1049600    False     \n",
       "Linear                                    1049600    False     \n",
       "LayerNorm                                 2048       True      \n",
       "GELUActivation                                                 \n",
       "____________________________________________________________________________\n",
       "                     2 x 256 x 4096      \n",
       "Linear                                    4198400    False     \n",
       "____________________________________________________________________________\n",
       "                     2 x 256 x 1024      \n",
       "Linear                                    4195328    False     \n",
       "LayerNorm                                 2048       True      \n",
       "Linear                                    1049600    False     \n",
       "Linear                                    1049600    False     \n",
       "Linear                                    1049600    False     \n",
       "Linear                                    1049600    False     \n",
       "LayerNorm                                 2048       True      \n",
       "GELUActivation                                                 \n",
       "____________________________________________________________________________\n",
       "                     2 x 256 x 4096      \n",
       "Linear                                    4198400    False     \n",
       "____________________________________________________________________________\n",
       "                     2 x 256 x 1024      \n",
       "Linear                                    4195328    False     \n",
       "LayerNorm                                 2048       True      \n",
       "Linear                                    1049600    False     \n",
       "Linear                                    1049600    False     \n",
       "Linear                                    1049600    False     \n",
       "Linear                                    1049600    False     \n",
       "LayerNorm                                 2048       True      \n",
       "GELUActivation                                                 \n",
       "____________________________________________________________________________\n",
       "                     2 x 256 x 4096      \n",
       "Linear                                    4198400    False     \n",
       "____________________________________________________________________________\n",
       "                     2 x 256 x 1024      \n",
       "Linear                                    4195328    False     \n",
       "LayerNorm                                 2048       True      \n",
       "Linear                                    1049600    False     \n",
       "Linear                                    1049600    False     \n",
       "Linear                                    1049600    False     \n",
       "Linear                                    1049600    False     \n",
       "LayerNorm                                 2048       True      \n",
       "GELUActivation                                                 \n",
       "____________________________________________________________________________\n",
       "                     2 x 256 x 4096      \n",
       "Linear                                    4198400    False     \n",
       "____________________________________________________________________________\n",
       "                     2 x 256 x 1024      \n",
       "Linear                                    4195328    False     \n",
       "LayerNorm                                 2048       True      \n",
       "Linear                                    1049600    False     \n",
       "Linear                                    1049600    False     \n",
       "Linear                                    1049600    False     \n",
       "Linear                                    1049600    False     \n",
       "LayerNorm                                 2048       True      \n",
       "GELUActivation                                                 \n",
       "____________________________________________________________________________\n",
       "                     2 x 256 x 4096      \n",
       "Linear                                    4198400    False     \n",
       "____________________________________________________________________________\n",
       "                     2 x 256 x 1024      \n",
       "Linear                                    4195328    False     \n",
       "LayerNorm                                 2048       True      \n",
       "LayerNorm                                 2048       True      \n",
       "LayerNorm                                 2048       True      \n",
       "____________________________________________________________________________\n",
       "                     2 x 130 x 1024      \n",
       "Embedding                                 256055296  False     \n",
       "____________________________________________________________________________\n",
       "                     2 x 1024            \n",
       "MBartLearnedPositionalEmbedding                      1050624    False     \n",
       "Linear                                    1049600    True      \n",
       "Linear                                    1049600    True      \n",
       "Linear                                    1049600    True      \n",
       "Linear                                    1049600    True      \n",
       "GELUActivation                                                 \n",
       "LayerNorm                                 2048       True      \n",
       "Linear                                    1049600    True      \n",
       "Linear                                    1049600    True      \n",
       "Linear                                    1049600    True      \n",
       "Linear                                    1049600    True      \n",
       "LayerNorm                                 2048       True      \n",
       "____________________________________________________________________________\n",
       "                     2 x 130 x 4096      \n",
       "Linear                                    4198400    True      \n",
       "____________________________________________________________________________\n",
       "                     2 x 130 x 1024      \n",
       "Linear                                    4195328    True      \n",
       "LayerNorm                                 2048       True      \n",
       "Linear                                    1049600    True      \n",
       "Linear                                    1049600    True      \n",
       "Linear                                    1049600    True      \n",
       "Linear                                    1049600    True      \n",
       "GELUActivation                                                 \n",
       "LayerNorm                                 2048       True      \n",
       "Linear                                    1049600    True      \n",
       "Linear                                    1049600    True      \n",
       "Linear                                    1049600    True      \n",
       "Linear                                    1049600    True      \n",
       "LayerNorm                                 2048       True      \n",
       "____________________________________________________________________________\n",
       "                     2 x 130 x 4096      \n",
       "Linear                                    4198400    True      \n",
       "____________________________________________________________________________\n",
       "                     2 x 130 x 1024      \n",
       "Linear                                    4195328    True      \n",
       "LayerNorm                                 2048       True      \n",
       "Linear                                    1049600    True      \n",
       "Linear                                    1049600    True      \n",
       "Linear                                    1049600    True      \n",
       "Linear                                    1049600    True      \n",
       "GELUActivation                                                 \n",
       "LayerNorm                                 2048       True      \n",
       "Linear                                    1049600    True      \n",
       "Linear                                    1049600    True      \n",
       "Linear                                    1049600    True      \n",
       "Linear                                    1049600    True      \n",
       "LayerNorm                                 2048       True      \n",
       "____________________________________________________________________________\n",
       "                     2 x 130 x 4096      \n",
       "Linear                                    4198400    True      \n",
       "____________________________________________________________________________\n",
       "                     2 x 130 x 1024      \n",
       "Linear                                    4195328    True      \n",
       "LayerNorm                                 2048       True      \n",
       "Linear                                    1049600    True      \n",
       "Linear                                    1049600    True      \n",
       "Linear                                    1049600    True      \n",
       "Linear                                    1049600    True      \n",
       "GELUActivation                                                 \n",
       "LayerNorm                                 2048       True      \n",
       "Linear                                    1049600    True      \n",
       "Linear                                    1049600    True      \n",
       "Linear                                    1049600    True      \n",
       "Linear                                    1049600    True      \n",
       "LayerNorm                                 2048       True      \n",
       "____________________________________________________________________________\n",
       "                     2 x 130 x 4096      \n",
       "Linear                                    4198400    True      \n",
       "____________________________________________________________________________\n",
       "                     2 x 130 x 1024      \n",
       "Linear                                    4195328    True      \n",
       "LayerNorm                                 2048       True      \n",
       "Linear                                    1049600    True      \n",
       "Linear                                    1049600    True      \n",
       "Linear                                    1049600    True      \n",
       "Linear                                    1049600    True      \n",
       "GELUActivation                                                 \n",
       "LayerNorm                                 2048       True      \n",
       "Linear                                    1049600    True      \n",
       "Linear                                    1049600    True      \n",
       "Linear                                    1049600    True      \n",
       "Linear                                    1049600    True      \n",
       "LayerNorm                                 2048       True      \n",
       "____________________________________________________________________________\n",
       "                     2 x 130 x 4096      \n",
       "Linear                                    4198400    True      \n",
       "____________________________________________________________________________\n",
       "                     2 x 130 x 1024      \n",
       "Linear                                    4195328    True      \n",
       "LayerNorm                                 2048       True      \n",
       "Linear                                    1049600    True      \n",
       "Linear                                    1049600    True      \n",
       "Linear                                    1049600    True      \n",
       "Linear                                    1049600    True      \n",
       "GELUActivation                                                 \n",
       "LayerNorm                                 2048       True      \n",
       "Linear                                    1049600    True      \n",
       "Linear                                    1049600    True      \n",
       "Linear                                    1049600    True      \n",
       "Linear                                    1049600    True      \n",
       "LayerNorm                                 2048       True      \n",
       "____________________________________________________________________________\n",
       "                     2 x 130 x 4096      \n",
       "Linear                                    4198400    True      \n",
       "____________________________________________________________________________\n",
       "                     2 x 130 x 1024      \n",
       "Linear                                    4195328    True      \n",
       "LayerNorm                                 2048       True      \n",
       "Linear                                    1049600    True      \n",
       "Linear                                    1049600    True      \n",
       "Linear                                    1049600    True      \n",
       "Linear                                    1049600    True      \n",
       "GELUActivation                                                 \n",
       "LayerNorm                                 2048       True      \n",
       "Linear                                    1049600    True      \n",
       "Linear                                    1049600    True      \n",
       "Linear                                    1049600    True      \n",
       "Linear                                    1049600    True      \n",
       "LayerNorm                                 2048       True      \n",
       "____________________________________________________________________________\n",
       "                     2 x 130 x 4096      \n",
       "Linear                                    4198400    True      \n",
       "____________________________________________________________________________\n",
       "                     2 x 130 x 1024      \n",
       "Linear                                    4195328    True      \n",
       "LayerNorm                                 2048       True      \n",
       "Linear                                    1049600    True      \n",
       "Linear                                    1049600    True      \n",
       "Linear                                    1049600    True      \n",
       "Linear                                    1049600    True      \n",
       "GELUActivation                                                 \n",
       "LayerNorm                                 2048       True      \n",
       "Linear                                    1049600    True      \n",
       "Linear                                    1049600    True      \n",
       "Linear                                    1049600    True      \n",
       "Linear                                    1049600    True      \n",
       "LayerNorm                                 2048       True      \n",
       "____________________________________________________________________________\n",
       "                     2 x 130 x 4096      \n",
       "Linear                                    4198400    True      \n",
       "____________________________________________________________________________\n",
       "                     2 x 130 x 1024      \n",
       "Linear                                    4195328    True      \n",
       "LayerNorm                                 2048       True      \n",
       "Linear                                    1049600    True      \n",
       "Linear                                    1049600    True      \n",
       "Linear                                    1049600    True      \n",
       "Linear                                    1049600    True      \n",
       "GELUActivation                                                 \n",
       "LayerNorm                                 2048       True      \n",
       "Linear                                    1049600    True      \n",
       "Linear                                    1049600    True      \n",
       "Linear                                    1049600    True      \n",
       "Linear                                    1049600    True      \n",
       "LayerNorm                                 2048       True      \n",
       "____________________________________________________________________________\n",
       "                     2 x 130 x 4096      \n",
       "Linear                                    4198400    True      \n",
       "____________________________________________________________________________\n",
       "                     2 x 130 x 1024      \n",
       "Linear                                    4195328    True      \n",
       "LayerNorm                                 2048       True      \n",
       "Linear                                    1049600    True      \n",
       "Linear                                    1049600    True      \n",
       "Linear                                    1049600    True      \n",
       "Linear                                    1049600    True      \n",
       "GELUActivation                                                 \n",
       "LayerNorm                                 2048       True      \n",
       "Linear                                    1049600    True      \n",
       "Linear                                    1049600    True      \n",
       "Linear                                    1049600    True      \n",
       "Linear                                    1049600    True      \n",
       "LayerNorm                                 2048       True      \n",
       "____________________________________________________________________________\n",
       "                     2 x 130 x 4096      \n",
       "Linear                                    4198400    True      \n",
       "____________________________________________________________________________\n",
       "                     2 x 130 x 1024      \n",
       "Linear                                    4195328    True      \n",
       "LayerNorm                                 2048       True      \n",
       "Linear                                    1049600    True      \n",
       "Linear                                    1049600    True      \n",
       "Linear                                    1049600    True      \n",
       "Linear                                    1049600    True      \n",
       "GELUActivation                                                 \n",
       "LayerNorm                                 2048       True      \n",
       "Linear                                    1049600    True      \n",
       "Linear                                    1049600    True      \n",
       "Linear                                    1049600    True      \n",
       "Linear                                    1049600    True      \n",
       "LayerNorm                                 2048       True      \n",
       "____________________________________________________________________________\n",
       "                     2 x 130 x 4096      \n",
       "Linear                                    4198400    True      \n",
       "____________________________________________________________________________\n",
       "                     2 x 130 x 1024      \n",
       "Linear                                    4195328    True      \n",
       "LayerNorm                                 2048       True      \n",
       "Linear                                    1049600    True      \n",
       "Linear                                    1049600    True      \n",
       "Linear                                    1049600    True      \n",
       "Linear                                    1049600    True      \n",
       "GELUActivation                                                 \n",
       "LayerNorm                                 2048       True      \n",
       "Linear                                    1049600    True      \n",
       "Linear                                    1049600    True      \n",
       "Linear                                    1049600    True      \n",
       "Linear                                    1049600    True      \n",
       "LayerNorm                                 2048       True      \n",
       "____________________________________________________________________________\n",
       "                     2 x 130 x 4096      \n",
       "Linear                                    4198400    True      \n",
       "____________________________________________________________________________\n",
       "                     2 x 130 x 1024      \n",
       "Linear                                    4195328    True      \n",
       "LayerNorm                                 2048       True      \n",
       "LayerNorm                                 2048       True      \n",
       "LayerNorm                                 2048       True      \n",
       "____________________________________________________________________________\n",
       "                     2 x 130 x 250054    \n",
       "Linear                                    256055296  False     \n",
       "____________________________________________________________________________\n",
       "\n",
       "Total params: 1,379,045,376\n",
       "Total trainable params: 201,617,408\n",
       "Total non-trainable params: 1,177,427,968\n",
       "\n",
       "Optimizer used: functools.partial(<function Adam at 0x7f314bb5df70>)\n",
       "Loss function: FlattenedLoss of CrossEntropyLoss()\n",
       "\n",
       "Model frozen up to parameter group #2\n",
       "\n",
       "Callbacks:\n",
       "  - TrainEvalCallback\n",
       "  - BaseModelCallback\n",
       "  - CastToTensor\n",
       "  - Recorder\n",
       "  - ProgressCallback"
      ]
     },
     "execution_count": 15,
     "metadata": {},
     "output_type": "execute_result"
    }
   ],
   "source": [
    "model = BaseModelWrapper(hf_model)\n",
    "learn_cbs = [BaseModelCallback]\n",
    "fit_cbs = [Seq2SeqMetricsCallback(custom_metrics=seq2seq_metrics)]\n",
    "\n",
    "learn = Learner(\n",
    "    dls,\n",
    "    model,\n",
    "    opt_func=partial(Adam),\n",
    "    loss_func=CrossEntropyLossFlat(),\n",
    "    cbs=learn_cbs,\n",
    "    splitter=partial(blurr_seq2seq_splitter, arch=hf_arch),\n",
    ")\n",
    "\n",
    "#learn = learn.to_native_fp16() #.to_fp16()\n",
    "learn.freeze()\n",
    "learn.summary()"
   ]
  },
  {
   "cell_type": "code",
   "execution_count": 16,
   "metadata": {
    "id": "VVIgkNLD306l",
    "scrolled": true
   },
   "outputs": [
    {
     "data": {
      "text/html": [
       "\n",
       "<style>\n",
       "    /* Turns off some styling */\n",
       "    progress {\n",
       "        /* gets rid of default border in Firefox and Opera. */\n",
       "        border: none;\n",
       "        /* Needs to be in here for Safari polyfill so background images work as expected. */\n",
       "        background-size: auto;\n",
       "    }\n",
       "    progress:not([value]), progress:not([value])::-webkit-progress-bar {\n",
       "        background: repeating-linear-gradient(45deg, #7e7e7e, #7e7e7e 10px, #5c5c5c 10px, #5c5c5c 20px);\n",
       "    }\n",
       "    .progress-bar-interrupted, .progress-bar-interrupted::-webkit-progress-bar {\n",
       "        background: #F44336;\n",
       "    }\n",
       "</style>\n"
      ],
      "text/plain": [
       "<IPython.core.display.HTML object>"
      ]
     },
     "metadata": {},
     "output_type": "display_data"
    },
    {
     "data": {
      "text/html": [],
      "text/plain": [
       "<IPython.core.display.HTML object>"
      ]
     },
     "metadata": {},
     "output_type": "display_data"
    },
    {
     "data": {
      "text/plain": [
       "SuggestedLRs(minimum=2.7542287716642023e-05, steep=6.309573450380412e-07, valley=4.365158383734524e-05, slide=6.309573450380412e-07)"
      ]
     },
     "execution_count": 16,
     "metadata": {},
     "output_type": "execute_result"
    },
    {
     "data": {
      "image/png": "[encoded data removed]",
      "text/plain": [
       "<Figure size 432x288 with 1 Axes>"
      ]
     },
     "metadata": {
      "needs_background": "light"
     },
     "output_type": "display_data"
    }
   ],
   "source": [
    "learn.lr_find(suggest_funcs=[minimum, steep, valley, slide])"
   ]
  },
  {
   "cell_type": "code",
   "execution_count": 15,
   "metadata": {},
   "outputs": [
    {
     "data": {
      "text/html": [
       "\n",
       "<style>\n",
       "    /* Turns off some styling */\n",
       "    progress {\n",
       "        /* gets rid of default border in Firefox and Opera. */\n",
       "        border: none;\n",
       "        /* Needs to be in here for Safari polyfill so background images work as expected. */\n",
       "        background-size: auto;\n",
       "    }\n",
       "    progress:not([value]), progress:not([value])::-webkit-progress-bar {\n",
       "        background: repeating-linear-gradient(45deg, #7e7e7e, #7e7e7e 10px, #5c5c5c 10px, #5c5c5c 20px);\n",
       "    }\n",
       "    .progress-bar-interrupted, .progress-bar-interrupted::-webkit-progress-bar {\n",
       "        background: #F44336;\n",
       "    }\n",
       "</style>\n"
      ],
      "text/plain": [
       "<IPython.core.display.HTML object>"
      ]
     },
     "metadata": {},
     "output_type": "display_data"
    },
    {
     "data": {
      "text/html": [
       "<table border=\"1\" class=\"dataframe\">\n",
       "  <thead>\n",
       "    <tr style=\"text-align: left;\">\n",
       "      <th>epoch</th>\n",
       "      <th>train_loss</th>\n",
       "      <th>valid_loss</th>\n",
       "      <th>rouge1</th>\n",
       "      <th>rouge2</th>\n",
       "      <th>rougeL</th>\n",
       "      <th>rougeLsum</th>\n",
       "      <th>bertscore_precision</th>\n",
       "      <th>bertscore_recall</th>\n",
       "      <th>bertscore_f1</th>\n",
       "      <th>bleu</th>\n",
       "      <th>time</th>\n",
       "    </tr>\n",
       "  </thead>\n",
       "  <tbody>\n",
       "    <tr>\n",
       "      <td>0</td>\n",
       "      <td>3.907605</td>\n",
       "      <td>3.801193</td>\n",
       "      <td>0.279903</td>\n",
       "      <td>0.094850</td>\n",
       "      <td>0.215610</td>\n",
       "      <td>0.215609</td>\n",
       "      <td>0.678668</td>\n",
       "      <td>0.652696</td>\n",
       "      <td>0.664562</td>\n",
       "      <td>0.047351</td>\n",
       "      <td>23:11</td>\n",
       "    </tr>\n",
       "    <tr>\n",
       "      <td>1</td>\n",
       "      <td>2.783773</td>\n",
       "      <td>2.678377</td>\n",
       "      <td>0.435621</td>\n",
       "      <td>0.226836</td>\n",
       "      <td>0.354641</td>\n",
       "      <td>0.354614</td>\n",
       "      <td>0.755312</td>\n",
       "      <td>0.715211</td>\n",
       "      <td>0.734019</td>\n",
       "      <td>0.150573</td>\n",
       "      <td>23:19</td>\n",
       "    </tr>\n",
       "    <tr>\n",
       "      <td>2</td>\n",
       "      <td>1.675726</td>\n",
       "      <td>1.883807</td>\n",
       "      <td>0.580258</td>\n",
       "      <td>0.419335</td>\n",
       "      <td>0.522195</td>\n",
       "      <td>0.523010</td>\n",
       "      <td>0.835144</td>\n",
       "      <td>0.778476</td>\n",
       "      <td>0.805300</td>\n",
       "      <td>0.294726</td>\n",
       "      <td>22:13</td>\n",
       "    </tr>\n",
       "    <tr>\n",
       "      <td>3</td>\n",
       "      <td>0.697408</td>\n",
       "      <td>1.861906</td>\n",
       "      <td>0.623619</td>\n",
       "      <td>0.480071</td>\n",
       "      <td>0.574227</td>\n",
       "      <td>0.574715</td>\n",
       "      <td>0.853178</td>\n",
       "      <td>0.804930</td>\n",
       "      <td>0.827797</td>\n",
       "      <td>0.363302</td>\n",
       "      <td>22:40</td>\n",
       "    </tr>\n",
       "  </tbody>\n",
       "</table>"
      ],
      "text/plain": [
       "<IPython.core.display.HTML object>"
      ]
     },
     "metadata": {},
     "output_type": "display_data"
    }
   ],
   "source": [
    "#4 ciclos modelo base de mBART eslamxm/MBART-finetuned-Spanish (50, 10) batch size= 1\n",
    "learn.fit_one_cycle(4, lr_max=0.0006309573538601399, cbs=fit_cbs)"
   ]
  },
  {
   "cell_type": "markdown",
   "metadata": {},
   "source": [
    "# MODELO Base"
   ]
  },
  {
   "cell_type": "code",
   "execution_count": 14,
   "metadata": {},
   "outputs": [
    {
     "data": {
      "text/html": [
       "\n",
       "<style>\n",
       "    /* Turns off some styling */\n",
       "    progress {\n",
       "        /* gets rid of default border in Firefox and Opera. */\n",
       "        border: none;\n",
       "        /* Needs to be in here for Safari polyfill so background images work as expected. */\n",
       "        background-size: auto;\n",
       "    }\n",
       "    progress:not([value]), progress:not([value])::-webkit-progress-bar {\n",
       "        background: repeating-linear-gradient(45deg, #7e7e7e, #7e7e7e 10px, #5c5c5c 10px, #5c5c5c 20px);\n",
       "    }\n",
       "    .progress-bar-interrupted, .progress-bar-interrupted::-webkit-progress-bar {\n",
       "        background: #F44336;\n",
       "    }\n",
       "</style>\n"
      ],
      "text/plain": [
       "<IPython.core.display.HTML object>"
      ]
     },
     "metadata": {},
     "output_type": "display_data"
    },
    {
     "data": {
      "text/html": [
       "<table border=\"1\" class=\"dataframe\">\n",
       "  <thead>\n",
       "    <tr style=\"text-align: left;\">\n",
       "      <th>epoch</th>\n",
       "      <th>train_loss</th>\n",
       "      <th>valid_loss</th>\n",
       "      <th>rouge1</th>\n",
       "      <th>rouge2</th>\n",
       "      <th>rougeL</th>\n",
       "      <th>rougeLsum</th>\n",
       "      <th>bertscore_precision</th>\n",
       "      <th>bertscore_recall</th>\n",
       "      <th>bertscore_f1</th>\n",
       "      <th>bleu</th>\n",
       "      <th>time</th>\n",
       "    </tr>\n",
       "  </thead>\n",
       "  <tbody>\n",
       "    <tr>\n",
       "      <td>0</td>\n",
       "      <td>1.021594</td>\n",
       "      <td>0.891353</td>\n",
       "      <td>0.679494</td>\n",
       "      <td>0.595874</td>\n",
       "      <td>0.667983</td>\n",
       "      <td>0.668683</td>\n",
       "      <td>0.858618</td>\n",
       "      <td>0.829525</td>\n",
       "      <td>0.842838</td>\n",
       "      <td>0.486264</td>\n",
       "      <td>25:14</td>\n",
       "    </tr>\n",
       "    <tr>\n",
       "      <td>1</td>\n",
       "      <td>0.573852</td>\n",
       "      <td>0.563872</td>\n",
       "      <td>0.805591</td>\n",
       "      <td>0.754661</td>\n",
       "      <td>0.802736</td>\n",
       "      <td>0.802753</td>\n",
       "      <td>0.930408</td>\n",
       "      <td>0.896089</td>\n",
       "      <td>0.912173</td>\n",
       "      <td>0.619518</td>\n",
       "      <td>24:53</td>\n",
       "    </tr>\n",
       "    <tr>\n",
       "      <td>2</td>\n",
       "      <td>0.371475</td>\n",
       "      <td>0.387605</td>\n",
       "      <td>0.853029</td>\n",
       "      <td>0.812000</td>\n",
       "      <td>0.852026</td>\n",
       "      <td>0.852200</td>\n",
       "      <td>0.955413</td>\n",
       "      <td>0.917531</td>\n",
       "      <td>0.935341</td>\n",
       "      <td>0.673285</td>\n",
       "      <td>24:44</td>\n",
       "    </tr>\n",
       "    <tr>\n",
       "      <td>3</td>\n",
       "      <td>0.212017</td>\n",
       "      <td>0.366373</td>\n",
       "      <td>0.859541</td>\n",
       "      <td>0.820185</td>\n",
       "      <td>0.858498</td>\n",
       "      <td>0.858574</td>\n",
       "      <td>0.958518</td>\n",
       "      <td>0.920748</td>\n",
       "      <td>0.938520</td>\n",
       "      <td>0.681339</td>\n",
       "      <td>24:44</td>\n",
       "    </tr>\n",
       "  </tbody>\n",
       "</table>"
      ],
      "text/plain": [
       "<IPython.core.display.HTML object>"
      ]
     },
     "metadata": {},
     "output_type": "display_data"
    }
   ],
   "source": [
    "#4 ciclos modelo base de mBART (50, 10) batch size= 1\n",
    "learn.fit_one_cycle(4, lr_max=0.0006309573538601399, cbs=fit_cbs)"
   ]
  },
  {
   "cell_type": "markdown",
   "metadata": {},
   "source": [
    "#### Exporting and importing trained model "
   ]
  },
  {
   "cell_type": "code",
   "execution_count": 15,
   "metadata": {},
   "outputs": [],
   "source": [
    "#EXPORT MODEL\n",
    "learn.metrics=None\n",
    "learn=learn.to_fp32()\n",
    "learn.export(fname='base4cycles50_10_beam4_bs1.pkl')"
   ]
  },
  {
   "cell_type": "code",
   "execution_count": 3,
   "metadata": {},
   "outputs": [],
   "source": [
    "infer=load_learner(fname='base4cycles50_10_beam4_bs1.pkl')"
   ]
  },
  {
   "cell_type": "markdown",
   "metadata": {},
   "source": [
    "# Inflesz"
   ]
  },
  {
   "cell_type": "code",
   "execution_count": 5,
   "metadata": {},
   "outputs": [],
   "source": [
    "#!pip3 install legibilidad\n",
    "import legibilidad\n",
    "\n",
    "def getinflesz(oracion):\n",
    "    value=legibilidad.szigriszt_pazos(oracion)\n",
    "    return value"
   ]
  },
  {
   "cell_type": "markdown",
   "metadata": {},
   "source": [
    "## SARI"
   ]
  },
  {
   "cell_type": "code",
   "execution_count": 9,
   "metadata": {},
   "outputs": [
    {
     "name": "stderr",
     "output_type": "stream",
     "text": [
      "2022-12-04 19:27:31.279329: E tensorflow/stream_executor/cuda/cuda_driver.cc:271] failed call to cuInit: CUDA_ERROR_COMPAT_NOT_SUPPORTED_ON_DEVICE: forward compatibility was attempted on non supported HW\n",
      "2022-12-04 19:27:31.279391: I tensorflow/stream_executor/cuda/cuda_diagnostics.cc:169] retrieving CUDA diagnostic information for host: GPU-AURUS\n",
      "2022-12-04 19:27:31.279400: I tensorflow/stream_executor/cuda/cuda_diagnostics.cc:176] hostname: GPU-AURUS\n",
      "2022-12-04 19:27:31.279544: I tensorflow/stream_executor/cuda/cuda_diagnostics.cc:200] libcuda reported version is: 510.108.3\n",
      "2022-12-04 19:27:31.279578: I tensorflow/stream_executor/cuda/cuda_diagnostics.cc:204] kernel reported version is: 510.85.2\n",
      "2022-12-04 19:27:31.279585: E tensorflow/stream_executor/cuda/cuda_diagnostics.cc:313] kernel version 510.85.2 does not match DSO version 510.108.3 -- cannot find working devices in this configuration\n",
      "2022-12-04 19:27:31.280132: I tensorflow/core/platform/cpu_feature_guard.cc:193] This TensorFlow binary is optimized with oneAPI Deep Neural Network Library (oneDNN) to use the following CPU instructions in performance-critical operations:  AVX2 AVX_VNNI FMA\n",
      "To enable them in other operations, rebuild TensorFlow with the appropriate compiler flags.\n"
     ]
    }
   ],
   "source": [
    "# sources = original instances, predictions = list of model predictions, references = original simplified instances\n",
    "from evaluate import load\n",
    "sari = load(\"sari\")\n",
    "sources = uniquesource\n",
    "predictions=predicciones\n",
    "sari_score = sari.compute(sources=sources, predictions=predictions, references=articlesv2)"
   ]
  },
  {
   "cell_type": "code",
   "execution_count": 26,
   "metadata": {
    "scrolled": true
   },
   "outputs": [
    {
     "data": {
      "text/plain": [
       "{'sari': 43.68084872146032}"
      ]
     },
     "execution_count": 26,
     "metadata": {},
     "output_type": "execute_result"
    }
   ],
   "source": [
    "#modelo Spanish-finetuned\n",
    "sari_score"
   ]
  },
  {
   "cell_type": "code",
   "execution_count": 10,
   "metadata": {},
   "outputs": [
    {
     "data": {
      "text/plain": [
       "{'sari': 67.30647014944581}"
      ]
     },
     "execution_count": 10,
     "metadata": {},
     "output_type": "execute_result"
    }
   ],
   "source": [
    "#modelo base\n",
    "sari_score"
   ]
  },
  {
   "cell_type": "markdown",
   "metadata": {},
   "source": [
    "# DEV"
   ]
  },
  {
   "cell_type": "code",
   "execution_count": 4,
   "metadata": {},
   "outputs": [
    {
     "name": "stdout",
     "output_type": "stream",
     "text": [
      "786\n"
     ]
    },
    {
     "name": "stderr",
     "output_type": "stream",
     "text": [
      "/tmp/ipykernel_238855/2059398897.py:1: FutureWarning: The error_bad_lines argument has been deprecated and will be removed in a future version. Use on_bad_lines in the future.\n",
      "\n",
      "\n",
      "  df3 = pd.read_csv('/home/ralarcon/Data_augmentation/split/3split/dev.csv', error_bad_lines=False, sep=';')\n"
     ]
    }
   ],
   "source": [
    "df3 = pd.read_csv('Datasetsv2/dev.csv', error_bad_lines=False, sep=';')\n",
    "df3 = df3[['cod','original','simplified']]\n",
    "\n",
    "df3 = df3.applymap(str)\n",
    "articles3 = df3\n",
    "\n",
    "\n",
    "n_labels3 = len(articles3[\"original\"].unique())\n",
    "print(n_labels3)\n",
    "#articles3"
   ]
  },
  {
   "cell_type": "markdown",
   "metadata": {},
   "source": [
    "# TEST"
   ]
  },
  {
   "cell_type": "code",
   "execution_count": 4,
   "metadata": {
    "scrolled": true
   },
   "outputs": [
    {
     "name": "stdout",
     "output_type": "stream",
     "text": [
      "803\n"
     ]
    },
    {
     "name": "stderr",
     "output_type": "stream",
     "text": [
      "/tmp/ipykernel_544262/1810754344.py:1: FutureWarning: The error_bad_lines argument has been deprecated and will be removed in a future version. Use on_bad_lines in the future.\n",
      "\n",
      "\n",
      "  df2 = pd.read_csv('/home/ralarcon/Data_augmentation/split/3split/test.csv', error_bad_lines=False, sep=';')\n"
     ]
    }
   ],
   "source": [
    "df2 = pd.read_csv('Datasetsv2/test.csv', error_bad_lines=False, sep=';')\n",
    "df2 = df2[['cod','original','simplified']]\n",
    "\n",
    "df2 = df2.applymap(str)\n",
    "articles2 = df2\n",
    "\n",
    "\n",
    "n_labels2 = len(articles2[\"original\"].unique())\n",
    "print(n_labels2)\n",
    "#articles2"
   ]
  },
  {
   "cell_type": "markdown",
   "metadata": {},
   "source": [
    "# Predict on one example"
   ]
  },
  {
   "cell_type": "code",
   "execution_count": 6,
   "metadata": {},
   "outputs": [
    {
     "name": "stdout",
     "output_type": "stream",
     "text": [
      "ORIGINAL: Ambas han coincidido en la necesidad de apostar por una atención sanitaria más personalizada, multidisciplinar y corresponsable, que cuente con la participación efectiva de pacientes y organizaciones de pacientes, y en la que las intervenciones vayan encaminadas a liberar recursos económicos y de tiempo\n"
     ]
    }
   ],
   "source": [
    "print(\"ORIGINAL: \"+articles2[\"original\"][1])"
   ]
  },
  {
   "cell_type": "code",
   "execution_count": 7,
   "metadata": {},
   "outputs": [
    {
     "name": "stdout",
     "output_type": "stream",
     "text": [
      "SIMPLIFIED: Ambas han coincidido en la necesidad de apostar por una atención sanitaria más personalizada, multidisciplinar y corresponsable, que cuente con la participación real de pacientes y organizaciones de pacientes, y en la que las intervenciones vayan encaminadas a liberar recursos económicos y de tiempo\n"
     ]
    }
   ],
   "source": [
    "print(\"SIMPLIFIED: \"+articles2[\"simplified\"][1])"
   ]
  },
  {
   "cell_type": "code",
   "execution_count": 8,
   "metadata": {},
   "outputs": [],
   "source": [
    "output = infer.blurr_generate(articles2[\"original\"][1], num_return_sequences=1)"
   ]
  },
  {
   "cell_type": "code",
   "execution_count": 9,
   "metadata": {},
   "outputs": [
    {
     "data": {
      "text/plain": [
       "[{'generated_texts': 'Ambas han coincidido en la necesidad de apostar por una atención sanitaria más personalizada, multidisciplinar y corresponsable, que cuente con la participación efectiva de pacientes y organizaciones de pacientes, y en la que las intervenciones vayan encaminadas a liberar recursos económicos y de tiempo'}]"
      ]
     },
     "execution_count": 9,
     "metadata": {},
     "output_type": "execute_result"
    }
   ],
   "source": [
    "output"
   ]
  }
 ],
 "metadata": {
  "accelerator": "GPU",
  "colab": {
   "name": "text_simplification.ipynb",
   "provenance": []
  },
  "kernelspec": {
   "display_name": "Python 3 (ipykernel)",
   "language": "python",
   "name": "python3"
  },
  "language_info": {
   "codemirror_mode": {
    "name": "ipython",
    "version": 3
   },
   "file_extension": ".py",
   "mimetype": "text/x-python",
   "name": "python",
   "nbconvert_exporter": "python",
   "pygments_lexer": "ipython3",
   "version": "3.8.10"
  }
 },
 "nbformat": 4,
 "nbformat_minor": 1
}
