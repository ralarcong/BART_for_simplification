{
 "cells": [
  {
   "cell_type": "code",
   "execution_count": 1,
   "metadata": {},
   "outputs": [],
   "source": [
    "import os\n",
    "os.environ[\"TOKENIZERS_PARALLELISM\"] = \"false\""
   ]
  },
  {
   "cell_type": "code",
   "execution_count": 2,
   "metadata": {},
   "outputs": [
    {
     "name": "stderr",
     "output_type": "stream",
     "text": [
      "/home/ralarcon/.local/lib/python3.8/site-packages/tqdm/auto.py:22: TqdmWarning: IProgress not found. Please update jupyter and ipywidgets. See https://ipywidgets.readthedocs.io/en/stable/user_install.html\n",
      "  from .autonotebook import tqdm as notebook_tqdm\n",
      "/usr/lib/python3/dist-packages/requests/__init__.py:89: RequestsDependencyWarning: urllib3 (1.26.11) or chardet (3.0.4) doesn't match a supported version!\n",
      "  warnings.warn(\"urllib3 ({}) or chardet ({}) doesn't match a supported \"\n",
      "2022-08-31 19:23:38.997430: I tensorflow/core/util/util.cc:169] oneDNN custom operations are on. You may see slightly different numerical results due to floating-point round-off errors from different computation orders. To turn them off, set the environment variable `TF_ENABLE_ONEDNN_OPTS=0`.\n"
     ]
    }
   ],
   "source": [
    "import pandas as pd\n",
    "from rouge_score import rouge_scorer\n",
    "from bert_score import score\n",
    "#import datasets\n",
    "#from evaluate import load\n",
    "import torch\n",
    "from fastai.text.all import *\n",
    "from blurr.text.data.all import *\n",
    "from blurr.text.modeling.all import *\n",
    "import nltk\n",
    "from transformers import MBartForConditionalGeneration, MBartTokenizer, MBart50TokenizerFast"
   ]
  },
  {
   "cell_type": "code",
   "execution_count": 4,
   "metadata": {
    "id": "mcwvflAfyST8"
   },
   "outputs": [
    {
     "name": "stdout",
     "output_type": "stream",
     "text": [
      "3665\n"
     ]
    },
    {
     "name": "stderr",
     "output_type": "stream",
     "text": [
      "/tmp/ipykernel_797635/2813172692.py:4: FutureWarning: The error_bad_lines argument has been deprecated and will be removed in a future version. Use on_bad_lines in the future.\n",
      "\n",
      "\n",
      "  df = pd.read_csv('/home/ralarcon/Data_augmentation/split/train.csv', error_bad_lines=False, sep=';')\n"
     ]
    },
    {
     "data": {
      "text/html": [
       "<div>\n",
       "<style scoped>\n",
       "    .dataframe tbody tr th:only-of-type {\n",
       "        vertical-align: middle;\n",
       "    }\n",
       "\n",
       "    .dataframe tbody tr th {\n",
       "        vertical-align: top;\n",
       "    }\n",
       "\n",
       "    .dataframe thead th {\n",
       "        text-align: right;\n",
       "    }\n",
       "</style>\n",
       "<table border=\"1\" class=\"dataframe\">\n",
       "  <thead>\n",
       "    <tr style=\"text-align: right;\">\n",
       "      <th></th>\n",
       "      <th>cod</th>\n",
       "      <th>original</th>\n",
       "      <th>simplified</th>\n",
       "    </tr>\n",
       "  </thead>\n",
       "  <tbody>\n",
       "    <tr>\n",
       "      <th>0</th>\n",
       "      <td>6387</td>\n",
       "      <td>Esta iniciativa hace hincapié en la importancia de limpiarse la lengua, ya que si se lleva a cabo una o dos veces al día, además de prevenir diversas patologías orales, se contribuye a la mejora del sentido del gusto</td>\n",
       "      <td>Esta iniciativa hace hincapié en la importancia de limpiarse la lengua, ya que si se lleva a cabo una o dos veces al día, además de prevenir diversas enfermedades orales, se contribuye a la mejora del sentido del gusto</td>\n",
       "    </tr>\n",
       "    <tr>\n",
       "      <th>1</th>\n",
       "      <td>8492</td>\n",
       "      <td>Trastornos del sistema inmune Raras: reacciones anafilÃ¡cticas/anafilactoides, incluyendo casos muy raros de urticaria, angioedema y reacciones graves con sÃ­ntomas respiratorios y circulatorios.</td>\n",
       "      <td>Trastornos del sistema inmune Raras: reacciones anafilÃ¡cticas/anafilactoides, incluyendo casos muy raros de urticaria, hinchazÃ³n debajo de la piel y reacciones graves con sÃ­ntomas respiratorios y circulatorios.</td>\n",
       "    </tr>\n",
       "    <tr>\n",
       "      <th>2</th>\n",
       "      <td>7926</td>\n",
       "      <td>TambiÃ©n puede aparecer angioedema de intensidad leve, por ejemplo de afectaciÃ³n maleolar.</td>\n",
       "      <td>TambiÃ©n puede aparecer hinchazÃ³n debajo de la piel de intensidad leve, por ejemplo de afectaciÃ³n maleolar.</td>\n",
       "    </tr>\n",
       "    <tr>\n",
       "      <th>3</th>\n",
       "      <td>8072</td>\n",
       "      <td>Frecuentes: temblores.</td>\n",
       "      <td>Frecuentes: temblor.</td>\n",
       "    </tr>\n",
       "    <tr>\n",
       "      <th>4</th>\n",
       "      <td>776</td>\n",
       "      <td>Todas las personas y entidades interesadas en asistir a las I Jornadas Intergeneracionales sobre prevención de los Malos Tratos y Abusos a Personas Mayores que se celebrarán en Madrid los días 26 y 27 de noviembre en la Sala Europa de la Comisión Europea de Madrid, ya pueden inscribirse como asistentes</td>\n",
       "      <td>Todas las personas y entidades interesadas en asistir a las I Jornadas Intergeneracionales sobre prevención de los Malos Tratos y Abusos a Personas Mayores que se harán en Madrid los días 26 y 27 de noviembre en la Sala Europa de la Comisión Europea de Madrid, ya pueden inscribirse como asistentes</td>\n",
       "    </tr>\n",
       "    <tr>\n",
       "      <th>...</th>\n",
       "      <td>...</td>\n",
       "      <td>...</td>\n",
       "      <td>...</td>\n",
       "    </tr>\n",
       "    <tr>\n",
       "      <th>7294</th>\n",
       "      <td>5991</td>\n",
       "      <td>Hoy, 21 de marzo, se conmemora el Día Internacional de la Cefalea en Racimos, el segundo tipo de cefalea primaria más frecuente tras la migraña</td>\n",
       "      <td>Hoy, 21 de marzo, se recuerda el Día Internacional de la Cefalea en Racimos, el segundo tipo de cefalea primaria más frecuente tras la migraña</td>\n",
       "    </tr>\n",
       "    <tr>\n",
       "      <th>7295</th>\n",
       "      <td>9047</td>\n",
       "      <td>Trastornos del sistema nervioso Poco frecuentes: mareos, cefalea, somnolencia.</td>\n",
       "      <td>Trastornos del sistema nervioso Poco frecuentes: mareo, dolor de cabeza, somnolencia.</td>\n",
       "    </tr>\n",
       "    <tr>\n",
       "      <th>7296</th>\n",
       "      <td>3089</td>\n",
       "      <td>\"El impacto de la «X Solidaria» es un ejemplo paradigmático de eficacia, pues son pocas las políticas públicas que consiguen hacer tanto bien con tan pocos recursos\", señaló la secretaria de Estado</td>\n",
       "      <td>\"El impacto de la «X Solidaria» es un ejemplo modélico de eficacia, pues son pocas las políticas públicas que consiguen hacer tanto bien con tan pocos recursos\", señaló la secretaria de Estado</td>\n",
       "    </tr>\n",
       "    <tr>\n",
       "      <th>7297</th>\n",
       "      <td>7817</td>\n",
       "      <td>Dentro de esta iniciativa y con motivo del Día de la Solidaridad Intergeneracional, la Plataforma Canal Sénior han recopilado una gran variedad de cursos gratuitos, con el objetivo de que cualquier persona mayor pueda aprender durante esta cuarentena para estar más conectada con su entorno, a través de cursos online que pueden realizarse en cualquier momento sobre WhatsApp, cursos de consumo o cursos orientados a aprender a comprar.</td>\n",
       "      <td>Dentro de esta iniciativa y con motivo del Día de la Solidaridad Intergeneracional, la Plataforma Canal Sénior han seleccionado una gran variedad de cursos gratuitos, con el objetivo de que cualquier persona mayor pueda aprender durante esta cuarentena para estar más conectada con su entorno, a través de cursos online que pueden realizarse en cualquier momento sobre WhatsApp, cursos de consumo o cursos orientados a aprender a comprar.</td>\n",
       "    </tr>\n",
       "    <tr>\n",
       "      <th>7298</th>\n",
       "      <td>66</td>\n",
       "      <td>El punto de partida de este proceso fue un análisis exploratorio inicial de 138 técnicas o procedimientos, basado en una revisión de las publicaciones científicas (revisiones sistemáticas y ensayos clínicos)</td>\n",
       "      <td>El punto de partida de este proceso fue un estudio exploratorio inicial de 138 técnicas o procedimientos, basado en una revisión de las publicaciones científicas (revisiones sistemáticas y ensayos clínicos)</td>\n",
       "    </tr>\n",
       "  </tbody>\n",
       "</table>\n",
       "<p>7299 rows × 3 columns</p>\n",
       "</div>"
      ],
      "text/plain": [
       "       cod  \\\n",
       "0     6387   \n",
       "1     8492   \n",
       "2     7926   \n",
       "3     8072   \n",
       "4      776   \n",
       "...    ...   \n",
       "7294  5991   \n",
       "7295  9047   \n",
       "7296  3089   \n",
       "7297  7817   \n",
       "7298    66   \n",
       "\n",
       "                                                                                                                                                                                                                                                                                                                                                                                                                                                  original  \\\n",
       "0                                                                                                                                                                                                                                 Esta iniciativa hace hincapié en la importancia de limpiarse la lengua, ya que si se lleva a cabo una o dos veces al día, además de prevenir diversas patologías orales, se contribuye a la mejora del sentido del gusto   \n",
       "1                                                                                                                                                                                                                                                      Trastornos del sistema inmune Raras: reacciones anafilÃ¡cticas/anafilactoides, incluyendo casos muy raros de urticaria, angioedema y reacciones graves con sÃ­ntomas respiratorios y circulatorios.   \n",
       "2                                                                                                                                                                                                                                                                                                                                                              TambiÃ©n puede aparecer angioedema de intensidad leve, por ejemplo de afectaciÃ³n maleolar.   \n",
       "3                                                                                                                                                                                                                                                                                                                                                                                                                                   Frecuentes: temblores.   \n",
       "4                                                                                                                                          Todas las personas y entidades interesadas en asistir a las I Jornadas Intergeneracionales sobre prevención de los Malos Tratos y Abusos a Personas Mayores que se celebrarán en Madrid los días 26 y 27 de noviembre en la Sala Europa de la Comisión Europea de Madrid, ya pueden inscribirse como asistentes   \n",
       "...                                                                                                                                                                                                                                                                                                                                                                                                                                                    ...   \n",
       "7294                                                                                                                                                                                                                                                                                                       Hoy, 21 de marzo, se conmemora el Día Internacional de la Cefalea en Racimos, el segundo tipo de cefalea primaria más frecuente tras la migraña   \n",
       "7295                                                                                                                                                                                                                                                                                                                                                                        Trastornos del sistema nervioso Poco frecuentes: mareos, cefalea, somnolencia.   \n",
       "7296                                                                                                                                                                                                                                                 \"El impacto de la «X Solidaria» es un ejemplo paradigmático de eficacia, pues son pocas las políticas públicas que consiguen hacer tanto bien con tan pocos recursos\", señaló la secretaria de Estado   \n",
       "7297  Dentro de esta iniciativa y con motivo del Día de la Solidaridad Intergeneracional, la Plataforma Canal Sénior han recopilado una gran variedad de cursos gratuitos, con el objetivo de que cualquier persona mayor pueda aprender durante esta cuarentena para estar más conectada con su entorno, a través de cursos online que pueden realizarse en cualquier momento sobre WhatsApp, cursos de consumo o cursos orientados a aprender a comprar.   \n",
       "7298                                                                                                                                                                                                                                       El punto de partida de este proceso fue un análisis exploratorio inicial de 138 técnicas o procedimientos, basado en una revisión de las publicaciones científicas (revisiones sistemáticas y ensayos clínicos)   \n",
       "\n",
       "                                                                                                                                                                                                                                                                                                                                                                                                                                                  simplified  \n",
       "0                                                                                                                                                                                                                                 Esta iniciativa hace hincapié en la importancia de limpiarse la lengua, ya que si se lleva a cabo una o dos veces al día, además de prevenir diversas enfermedades orales, se contribuye a la mejora del sentido del gusto  \n",
       "1                                                                                                                                                                                                                                      Trastornos del sistema inmune Raras: reacciones anafilÃ¡cticas/anafilactoides, incluyendo casos muy raros de urticaria, hinchazÃ³n debajo de la piel y reacciones graves con sÃ­ntomas respiratorios y circulatorios.  \n",
       "2                                                                                                                                                                                                                                                                                                                                              TambiÃ©n puede aparecer hinchazÃ³n debajo de la piel de intensidad leve, por ejemplo de afectaciÃ³n maleolar.  \n",
       "3                                                                                                                                                                                                                                                                                                                                                                                                                                       Frecuentes: temblor.  \n",
       "4                                                                                                                                                 Todas las personas y entidades interesadas en asistir a las I Jornadas Intergeneracionales sobre prevención de los Malos Tratos y Abusos a Personas Mayores que se harán en Madrid los días 26 y 27 de noviembre en la Sala Europa de la Comisión Europea de Madrid, ya pueden inscribirse como asistentes  \n",
       "...                                                                                                                                                                                                                                                                                                                                                                                                                                                      ...  \n",
       "7294                                                                                                                                                                                                                                                                                                          Hoy, 21 de marzo, se recuerda el Día Internacional de la Cefalea en Racimos, el segundo tipo de cefalea primaria más frecuente tras la migraña  \n",
       "7295                                                                                                                                                                                                                                                                                                                                                                   Trastornos del sistema nervioso Poco frecuentes: mareo, dolor de cabeza, somnolencia.  \n",
       "7296                                                                                                                                                                                                                                                        \"El impacto de la «X Solidaria» es un ejemplo modélico de eficacia, pues son pocas las políticas públicas que consiguen hacer tanto bien con tan pocos recursos\", señaló la secretaria de Estado  \n",
       "7297  Dentro de esta iniciativa y con motivo del Día de la Solidaridad Intergeneracional, la Plataforma Canal Sénior han seleccionado una gran variedad de cursos gratuitos, con el objetivo de que cualquier persona mayor pueda aprender durante esta cuarentena para estar más conectada con su entorno, a través de cursos online que pueden realizarse en cualquier momento sobre WhatsApp, cursos de consumo o cursos orientados a aprender a comprar.  \n",
       "7298                                                                                                                                                                                                                                          El punto de partida de este proceso fue un estudio exploratorio inicial de 138 técnicas o procedimientos, basado en una revisión de las publicaciones científicas (revisiones sistemáticas y ensayos clínicos)  \n",
       "\n",
       "[7299 rows x 3 columns]"
      ]
     },
     "execution_count": 4,
     "metadata": {},
     "output_type": "execute_result"
    }
   ],
   "source": [
    "#Get data\n",
    "df = pd.read_csv('Datasets/train', error_bad_lines=False, sep=';')\n",
    "df = df[['cod','original','simplified']]\n",
    "\n",
    "df = df.applymap(str)\n",
    "articles = df\n",
    "\n",
    "\n",
    "n_labels = len(articles[\"original\"].unique())\n",
    "print(n_labels)\n",
    "articles"
   ]
  },
  {
   "cell_type": "code",
   "execution_count": 5,
   "metadata": {
    "id": "B6EqLXgH2pw9"
   },
   "outputs": [
    {
     "data": {
      "text/plain": [
       "('mbart',\n",
       " transformers.models.mbart.configuration_mbart.MBartConfig,\n",
       " transformers.models.mbart50.tokenization_mbart50_fast.MBart50TokenizerFast,\n",
       " transformers.models.mbart.modeling_mbart.MBartForConditionalGeneration)"
      ]
     },
     "execution_count": 5,
     "metadata": {},
     "output_type": "execute_result"
    }
   ],
   "source": [
    "#Import model\n",
    "pretrained_model_name = \"eslamxm/MBART-finetuned-Spanish\"\n",
    "hf_arch, hf_config, hf_tokenizer, hf_model = get_hf_objects(pretrained_model_name, model_cls=MBartForConditionalGeneration)\n",
    "\n",
    "hf_arch, type(hf_config), type(hf_tokenizer), type(hf_model)"
   ]
  },
  {
   "cell_type": "code",
   "execution_count": 6,
   "metadata": {},
   "outputs": [],
   "source": [
    "text_gen_kwargs = {}\n",
    "text_gen_kwargs = {'length_penalty': 1.0, 'max_length': 60, 'min_length': 10, 'num_beams': 4}"
   ]
  },
  {
   "cell_type": "code",
   "execution_count": 7,
   "metadata": {},
   "outputs": [],
   "source": [
    "generate_func_args = list(inspect.signature(hf_model.generate).parameters.keys())\n",
    "for k in text_gen_kwargs.copy():\n",
    "    if k not in generate_func_args:\n",
    "        del text_gen_kwargs[k]"
   ]
  },
  {
   "cell_type": "code",
   "execution_count": 8,
   "metadata": {},
   "outputs": [],
   "source": [
    "if hf_arch == \"mbart\":\n",
    "    text_gen_kwargs[\"decoder_start_token_id\"] = hf_tokenizer.get_vocab()[\"es_XX\"]\n",
    "    \n",
    "tok_kwargs = {}"
   ]
  },
  {
   "cell_type": "code",
   "execution_count": 9,
   "metadata": {
    "id": "mOAi2qMD21pG"
   },
   "outputs": [],
   "source": [
    "batch_tokenize_tfm = Seq2SeqBatchTokenizeTransform(\n",
    "    hf_arch,\n",
    "    hf_config,\n",
    "    hf_tokenizer,\n",
    "    hf_model,\n",
    "    max_length=256,\n",
    "    max_target_length=130,\n",
    "    tok_kwargs=tok_kwargs,\n",
    "    text_gen_kwargs=text_gen_kwargs,\n",
    ")\n",
    "\n",
    "blocks = (Seq2SeqTextBlock(batch_tokenize_tfm=batch_tokenize_tfm), noop)\n",
    "\n",
    "dblock = DataBlock(blocks=blocks, get_x=ColReader(\"original\"), get_y=ColReader(\"simplified\"), splitter=RandomSplitter())\n"
   ]
  },
  {
   "cell_type": "code",
   "execution_count": 10,
   "metadata": {},
   "outputs": [],
   "source": [
    "dls = dblock.dataloaders(articles, bs=1)"
   ]
  },
  {
   "cell_type": "code",
   "execution_count": 11,
   "metadata": {
    "id": "L-LX7Bf23Yp1"
   },
   "outputs": [
    {
     "data": {
      "text/html": [
       "<table border=\"1\" class=\"dataframe\">\n",
       "  <thead>\n",
       "    <tr style=\"text-align: right;\">\n",
       "      <th></th>\n",
       "      <th>text</th>\n",
       "      <th>target</th>\n",
       "    </tr>\n",
       "  </thead>\n",
       "  <tbody>\n",
       "    <tr>\n",
       "      <th>0</th>\n",
       "      <td>es_XX Sistema Reacciones adversas del fÃ¡rmaco Trastornos del sistema inmunolÃ3gico Frecuencia no conocida Hipersensibilidad, angioedema, reacciÃ3n alÃ©rgica Trastornos de la sangre y del sistema linfÃ¡tico Raras Neutropenia Trastornos del metabolismo y de la nutriciÃ3n Frecuentes Aumento del apetito Poco frecuentes Anorexia Raras Hipoglucemia Trastornos psiquiÃ¡tricos Frecuentes Estado de Ã¡nimo eufÃ3rico, confusiÃ3n, irritabilidad, lÃ­bido Poco frecuentes Alucinaciones, crisis de angustia, inquietud, agitaciÃ3n, depresiÃ3n, Raras DesinhibiciÃ3n, estado de Ã¡nimo elevado Trastornos del sistema nervioso Muy frecuentes Mareos, somnolencia Frecuentes Ataxia, coordinaciÃ3n anormal, temblor, disartria, alteraciÃ3n de la Poco frecuentes SÃ­ncope, estupor, mioclono, hiperactividad psicomotora, ageusia, Ra&lt;/s&gt;</td>\n",
       "      <td>Sistema Reacciones adversas del fÃ¡rmaco Trastornos del sistema inmunolÃ3gico Frecuencia no conocida Hipersensibilidad, hinchazÃ3n debajo de la piel, alergia Trastornos de la sangre y del sistema linfÃ¡tico Raras Neutropenia Trastornos del metabolismo y de la nutriciÃ3n Frecuentes Aumento del apetito Poco frecuentes Anorexia Raras Hipoglucemia Trastornos psiquiÃ¡tricos Frecuentes Estado de Ã¡nimo eufÃ3rico, confusiÃ3n</td>\n",
       "    </tr>\n",
       "  </tbody>\n",
       "</table>"
      ],
      "text/plain": [
       "<IPython.core.display.HTML object>"
      ]
     },
     "metadata": {},
     "output_type": "display_data"
    }
   ],
   "source": [
    "dls.show_batch(dataloaders=dls, max_n=3)"
   ]
  },
  {
   "cell_type": "code",
   "execution_count": 12,
   "metadata": {
    "id": "4IZs28cD3i70"
   },
   "outputs": [],
   "source": [
    "seq2seq_metrics = {\n",
    "    \"rouge\": {\n",
    "        \"compute_kwargs\": {\"rouge_types\": [\"rouge1\", \"rouge2\", \"rougeL\", \"rougeLsum\"], \"use_stemmer\": True},\n",
    "        \"returns\": [\"rouge1\", \"rouge2\", \"rougeL\", \"rougeLsum\"],\n",
    "    },\n",
    "    \"bertscore\": {\"compute_kwargs\": {\"lang\": \"es\"}, \"returns\": [\"precision\", \"recall\", \"f1\"]},\n",
    "}"
   ]
  },
  {
   "cell_type": "code",
   "execution_count": 13,
   "metadata": {
    "id": "IoJkBusU3mNz"
   },
   "outputs": [
    {
     "data": {
      "text/html": [
       "\n",
       "<style>\n",
       "    /* Turns off some styling */\n",
       "    progress {\n",
       "        /* gets rid of default border in Firefox and Opera. */\n",
       "        border: none;\n",
       "        /* Needs to be in here for Safari polyfill so background images work as expected. */\n",
       "        background-size: auto;\n",
       "    }\n",
       "    progress:not([value]), progress:not([value])::-webkit-progress-bar {\n",
       "        background: repeating-linear-gradient(45deg, #7e7e7e, #7e7e7e 10px, #5c5c5c 10px, #5c5c5c 20px);\n",
       "    }\n",
       "    .progress-bar-interrupted, .progress-bar-interrupted::-webkit-progress-bar {\n",
       "        background: #F44336;\n",
       "    }\n",
       "</style>\n"
      ],
      "text/plain": [
       "<IPython.core.display.HTML object>"
      ]
     },
     "metadata": {},
     "output_type": "display_data"
    },
    {
     "data": {
      "text/html": [],
      "text/plain": [
       "<IPython.core.display.HTML object>"
      ]
     },
     "metadata": {},
     "output_type": "display_data"
    },
    {
     "data": {
      "text/plain": [
       "BaseModelWrapper (Input shape: 1 x 256)\n",
       "============================================================================\n",
       "Layer (type)         Output Shape         Param #    Trainable \n",
       "============================================================================\n",
       "                     1 x 130 x 1024      \n",
       "Embedding                                 256055296  False     \n",
       "Embedding                                 256055296  False     \n",
       "____________________________________________________________________________\n",
       "                     1 x 1024            \n",
       "MBartLearnedPositionalEmbedding                      1050624    False     \n",
       "Linear                                    1049600    False     \n",
       "Linear                                    1049600    False     \n",
       "Linear                                    1049600    False     \n",
       "Linear                                    1049600    False     \n",
       "LayerNorm                                 2048       True      \n",
       "GELUActivation                                                 \n",
       "____________________________________________________________________________\n",
       "                     1 x 256 x 4096      \n",
       "Linear                                    4198400    False     \n",
       "____________________________________________________________________________\n",
       "                     1 x 256 x 1024      \n",
       "Linear                                    4195328    False     \n",
       "LayerNorm                                 2048       True      \n",
       "Linear                                    1049600    False     \n",
       "Linear                                    1049600    False     \n",
       "Linear                                    1049600    False     \n",
       "Linear                                    1049600    False     \n",
       "LayerNorm                                 2048       True      \n",
       "GELUActivation                                                 \n",
       "____________________________________________________________________________\n",
       "                     1 x 256 x 4096      \n",
       "Linear                                    4198400    False     \n",
       "____________________________________________________________________________\n",
       "                     1 x 256 x 1024      \n",
       "Linear                                    4195328    False     \n",
       "LayerNorm                                 2048       True      \n",
       "Linear                                    1049600    False     \n",
       "Linear                                    1049600    False     \n",
       "Linear                                    1049600    False     \n",
       "Linear                                    1049600    False     \n",
       "LayerNorm                                 2048       True      \n",
       "GELUActivation                                                 \n",
       "____________________________________________________________________________\n",
       "                     1 x 256 x 4096      \n",
       "Linear                                    4198400    False     \n",
       "____________________________________________________________________________\n",
       "                     1 x 256 x 1024      \n",
       "Linear                                    4195328    False     \n",
       "LayerNorm                                 2048       True      \n",
       "Linear                                    1049600    False     \n",
       "Linear                                    1049600    False     \n",
       "Linear                                    1049600    False     \n",
       "Linear                                    1049600    False     \n",
       "LayerNorm                                 2048       True      \n",
       "GELUActivation                                                 \n",
       "____________________________________________________________________________\n",
       "                     1 x 256 x 4096      \n",
       "Linear                                    4198400    False     \n",
       "____________________________________________________________________________\n",
       "                     1 x 256 x 1024      \n",
       "Linear                                    4195328    False     \n",
       "LayerNorm                                 2048       True      \n",
       "Linear                                    1049600    False     \n",
       "Linear                                    1049600    False     \n",
       "Linear                                    1049600    False     \n",
       "Linear                                    1049600    False     \n",
       "LayerNorm                                 2048       True      \n",
       "GELUActivation                                                 \n",
       "____________________________________________________________________________\n",
       "                     1 x 256 x 4096      \n",
       "Linear                                    4198400    False     \n",
       "____________________________________________________________________________\n",
       "                     1 x 256 x 1024      \n",
       "Linear                                    4195328    False     \n",
       "LayerNorm                                 2048       True      \n",
       "Linear                                    1049600    False     \n",
       "Linear                                    1049600    False     \n",
       "Linear                                    1049600    False     \n",
       "Linear                                    1049600    False     \n",
       "LayerNorm                                 2048       True      \n",
       "GELUActivation                                                 \n",
       "____________________________________________________________________________\n",
       "                     1 x 256 x 4096      \n",
       "Linear                                    4198400    False     \n",
       "____________________________________________________________________________\n",
       "                     1 x 256 x 1024      \n",
       "Linear                                    4195328    False     \n",
       "LayerNorm                                 2048       True      \n",
       "Linear                                    1049600    False     \n",
       "Linear                                    1049600    False     \n",
       "Linear                                    1049600    False     \n",
       "Linear                                    1049600    False     \n",
       "LayerNorm                                 2048       True      \n",
       "GELUActivation                                                 \n",
       "____________________________________________________________________________\n",
       "                     1 x 256 x 4096      \n",
       "Linear                                    4198400    False     \n",
       "____________________________________________________________________________\n",
       "                     1 x 256 x 1024      \n",
       "Linear                                    4195328    False     \n",
       "LayerNorm                                 2048       True      \n",
       "Linear                                    1049600    False     \n",
       "Linear                                    1049600    False     \n",
       "Linear                                    1049600    False     \n",
       "Linear                                    1049600    False     \n",
       "LayerNorm                                 2048       True      \n",
       "GELUActivation                                                 \n",
       "____________________________________________________________________________\n",
       "                     1 x 256 x 4096      \n",
       "Linear                                    4198400    False     \n",
       "____________________________________________________________________________\n",
       "                     1 x 256 x 1024      \n",
       "Linear                                    4195328    False     \n",
       "LayerNorm                                 2048       True      \n",
       "Linear                                    1049600    False     \n",
       "Linear                                    1049600    False     \n",
       "Linear                                    1049600    False     \n",
       "Linear                                    1049600    False     \n",
       "LayerNorm                                 2048       True      \n",
       "GELUActivation                                                 \n",
       "____________________________________________________________________________\n",
       "                     1 x 256 x 4096      \n",
       "Linear                                    4198400    False     \n",
       "____________________________________________________________________________\n",
       "                     1 x 256 x 1024      \n",
       "Linear                                    4195328    False     \n",
       "LayerNorm                                 2048       True      \n",
       "Linear                                    1049600    False     \n",
       "Linear                                    1049600    False     \n",
       "Linear                                    1049600    False     \n",
       "Linear                                    1049600    False     \n",
       "LayerNorm                                 2048       True      \n",
       "GELUActivation                                                 \n",
       "____________________________________________________________________________\n",
       "                     1 x 256 x 4096      \n",
       "Linear                                    4198400    False     \n",
       "____________________________________________________________________________\n",
       "                     1 x 256 x 1024      \n",
       "Linear                                    4195328    False     \n",
       "LayerNorm                                 2048       True      \n",
       "Linear                                    1049600    False     \n",
       "Linear                                    1049600    False     \n",
       "Linear                                    1049600    False     \n",
       "Linear                                    1049600    False     \n",
       "LayerNorm                                 2048       True      \n",
       "GELUActivation                                                 \n",
       "____________________________________________________________________________\n",
       "                     1 x 256 x 4096      \n",
       "Linear                                    4198400    False     \n",
       "____________________________________________________________________________\n",
       "                     1 x 256 x 1024      \n",
       "Linear                                    4195328    False     \n",
       "LayerNorm                                 2048       True      \n",
       "Linear                                    1049600    False     \n",
       "Linear                                    1049600    False     \n",
       "Linear                                    1049600    False     \n",
       "Linear                                    1049600    False     \n",
       "LayerNorm                                 2048       True      \n",
       "GELUActivation                                                 \n",
       "____________________________________________________________________________\n",
       "                     1 x 256 x 4096      \n",
       "Linear                                    4198400    False     \n",
       "____________________________________________________________________________\n",
       "                     1 x 256 x 1024      \n",
       "Linear                                    4195328    False     \n",
       "LayerNorm                                 2048       True      \n",
       "LayerNorm                                 2048       True      \n",
       "LayerNorm                                 2048       True      \n",
       "____________________________________________________________________________\n",
       "                     1 x 130 x 1024      \n",
       "Embedding                                 256055296  False     \n",
       "____________________________________________________________________________\n",
       "                     1 x 1024            \n",
       "MBartLearnedPositionalEmbedding                      1050624    False     \n",
       "Linear                                    1049600    True      \n",
       "Linear                                    1049600    True      \n",
       "Linear                                    1049600    True      \n",
       "Linear                                    1049600    True      \n",
       "GELUActivation                                                 \n",
       "LayerNorm                                 2048       True      \n",
       "Linear                                    1049600    True      \n",
       "Linear                                    1049600    True      \n",
       "Linear                                    1049600    True      \n",
       "Linear                                    1049600    True      \n",
       "LayerNorm                                 2048       True      \n",
       "____________________________________________________________________________\n",
       "                     1 x 130 x 4096      \n",
       "Linear                                    4198400    True      \n",
       "____________________________________________________________________________\n",
       "                     1 x 130 x 1024      \n",
       "Linear                                    4195328    True      \n",
       "LayerNorm                                 2048       True      \n",
       "Linear                                    1049600    True      \n",
       "Linear                                    1049600    True      \n",
       "Linear                                    1049600    True      \n",
       "Linear                                    1049600    True      \n",
       "GELUActivation                                                 \n",
       "LayerNorm                                 2048       True      \n",
       "Linear                                    1049600    True      \n",
       "Linear                                    1049600    True      \n",
       "Linear                                    1049600    True      \n",
       "Linear                                    1049600    True      \n",
       "LayerNorm                                 2048       True      \n",
       "____________________________________________________________________________\n",
       "                     1 x 130 x 4096      \n",
       "Linear                                    4198400    True      \n",
       "____________________________________________________________________________\n",
       "                     1 x 130 x 1024      \n",
       "Linear                                    4195328    True      \n",
       "LayerNorm                                 2048       True      \n",
       "Linear                                    1049600    True      \n",
       "Linear                                    1049600    True      \n",
       "Linear                                    1049600    True      \n",
       "Linear                                    1049600    True      \n",
       "GELUActivation                                                 \n",
       "LayerNorm                                 2048       True      \n",
       "Linear                                    1049600    True      \n",
       "Linear                                    1049600    True      \n",
       "Linear                                    1049600    True      \n",
       "Linear                                    1049600    True      \n",
       "LayerNorm                                 2048       True      \n",
       "____________________________________________________________________________\n",
       "                     1 x 130 x 4096      \n",
       "Linear                                    4198400    True      \n",
       "____________________________________________________________________________\n",
       "                     1 x 130 x 1024      \n",
       "Linear                                    4195328    True      \n",
       "LayerNorm                                 2048       True      \n",
       "Linear                                    1049600    True      \n",
       "Linear                                    1049600    True      \n",
       "Linear                                    1049600    True      \n",
       "Linear                                    1049600    True      \n",
       "GELUActivation                                                 \n",
       "LayerNorm                                 2048       True      \n",
       "Linear                                    1049600    True      \n",
       "Linear                                    1049600    True      \n",
       "Linear                                    1049600    True      \n",
       "Linear                                    1049600    True      \n",
       "LayerNorm                                 2048       True      \n",
       "____________________________________________________________________________\n",
       "                     1 x 130 x 4096      \n",
       "Linear                                    4198400    True      \n",
       "____________________________________________________________________________\n",
       "                     1 x 130 x 1024      \n",
       "Linear                                    4195328    True      \n",
       "LayerNorm                                 2048       True      \n",
       "Linear                                    1049600    True      \n",
       "Linear                                    1049600    True      \n",
       "Linear                                    1049600    True      \n",
       "Linear                                    1049600    True      \n",
       "GELUActivation                                                 \n",
       "LayerNorm                                 2048       True      \n",
       "Linear                                    1049600    True      \n",
       "Linear                                    1049600    True      \n",
       "Linear                                    1049600    True      \n",
       "Linear                                    1049600    True      \n",
       "LayerNorm                                 2048       True      \n",
       "____________________________________________________________________________\n",
       "                     1 x 130 x 4096      \n",
       "Linear                                    4198400    True      \n",
       "____________________________________________________________________________\n",
       "                     1 x 130 x 1024      \n",
       "Linear                                    4195328    True      \n",
       "LayerNorm                                 2048       True      \n",
       "Linear                                    1049600    True      \n",
       "Linear                                    1049600    True      \n",
       "Linear                                    1049600    True      \n",
       "Linear                                    1049600    True      \n",
       "GELUActivation                                                 \n",
       "LayerNorm                                 2048       True      \n",
       "Linear                                    1049600    True      \n",
       "Linear                                    1049600    True      \n",
       "Linear                                    1049600    True      \n",
       "Linear                                    1049600    True      \n",
       "LayerNorm                                 2048       True      \n",
       "____________________________________________________________________________\n",
       "                     1 x 130 x 4096      \n",
       "Linear                                    4198400    True      \n",
       "____________________________________________________________________________\n",
       "                     1 x 130 x 1024      \n",
       "Linear                                    4195328    True      \n",
       "LayerNorm                                 2048       True      \n",
       "Linear                                    1049600    True      \n",
       "Linear                                    1049600    True      \n",
       "Linear                                    1049600    True      \n",
       "Linear                                    1049600    True      \n",
       "GELUActivation                                                 \n",
       "LayerNorm                                 2048       True      \n",
       "Linear                                    1049600    True      \n",
       "Linear                                    1049600    True      \n",
       "Linear                                    1049600    True      \n",
       "Linear                                    1049600    True      \n",
       "LayerNorm                                 2048       True      \n",
       "____________________________________________________________________________\n",
       "                     1 x 130 x 4096      \n",
       "Linear                                    4198400    True      \n",
       "____________________________________________________________________________\n",
       "                     1 x 130 x 1024      \n",
       "Linear                                    4195328    True      \n",
       "LayerNorm                                 2048       True      \n",
       "Linear                                    1049600    True      \n",
       "Linear                                    1049600    True      \n",
       "Linear                                    1049600    True      \n",
       "Linear                                    1049600    True      \n",
       "GELUActivation                                                 \n",
       "LayerNorm                                 2048       True      \n",
       "Linear                                    1049600    True      \n",
       "Linear                                    1049600    True      \n",
       "Linear                                    1049600    True      \n",
       "Linear                                    1049600    True      \n",
       "LayerNorm                                 2048       True      \n",
       "____________________________________________________________________________\n",
       "                     1 x 130 x 4096      \n",
       "Linear                                    4198400    True      \n",
       "____________________________________________________________________________\n",
       "                     1 x 130 x 1024      \n",
       "Linear                                    4195328    True      \n",
       "LayerNorm                                 2048       True      \n",
       "Linear                                    1049600    True      \n",
       "Linear                                    1049600    True      \n",
       "Linear                                    1049600    True      \n",
       "Linear                                    1049600    True      \n",
       "GELUActivation                                                 \n",
       "LayerNorm                                 2048       True      \n",
       "Linear                                    1049600    True      \n",
       "Linear                                    1049600    True      \n",
       "Linear                                    1049600    True      \n",
       "Linear                                    1049600    True      \n",
       "LayerNorm                                 2048       True      \n",
       "____________________________________________________________________________\n",
       "                     1 x 130 x 4096      \n",
       "Linear                                    4198400    True      \n",
       "____________________________________________________________________________\n",
       "                     1 x 130 x 1024      \n",
       "Linear                                    4195328    True      \n",
       "LayerNorm                                 2048       True      \n",
       "Linear                                    1049600    True      \n",
       "Linear                                    1049600    True      \n",
       "Linear                                    1049600    True      \n",
       "Linear                                    1049600    True      \n",
       "GELUActivation                                                 \n",
       "LayerNorm                                 2048       True      \n",
       "Linear                                    1049600    True      \n",
       "Linear                                    1049600    True      \n",
       "Linear                                    1049600    True      \n",
       "Linear                                    1049600    True      \n",
       "LayerNorm                                 2048       True      \n",
       "____________________________________________________________________________\n",
       "                     1 x 130 x 4096      \n",
       "Linear                                    4198400    True      \n",
       "____________________________________________________________________________\n",
       "                     1 x 130 x 1024      \n",
       "Linear                                    4195328    True      \n",
       "LayerNorm                                 2048       True      \n",
       "Linear                                    1049600    True      \n",
       "Linear                                    1049600    True      \n",
       "Linear                                    1049600    True      \n",
       "Linear                                    1049600    True      \n",
       "GELUActivation                                                 \n",
       "LayerNorm                                 2048       True      \n",
       "Linear                                    1049600    True      \n",
       "Linear                                    1049600    True      \n",
       "Linear                                    1049600    True      \n",
       "Linear                                    1049600    True      \n",
       "LayerNorm                                 2048       True      \n",
       "____________________________________________________________________________\n",
       "                     1 x 130 x 4096      \n",
       "Linear                                    4198400    True      \n",
       "____________________________________________________________________________\n",
       "                     1 x 130 x 1024      \n",
       "Linear                                    4195328    True      \n",
       "LayerNorm                                 2048       True      \n",
       "Linear                                    1049600    True      \n",
       "Linear                                    1049600    True      \n",
       "Linear                                    1049600    True      \n",
       "Linear                                    1049600    True      \n",
       "GELUActivation                                                 \n",
       "LayerNorm                                 2048       True      \n",
       "Linear                                    1049600    True      \n",
       "Linear                                    1049600    True      \n",
       "Linear                                    1049600    True      \n",
       "Linear                                    1049600    True      \n",
       "LayerNorm                                 2048       True      \n",
       "____________________________________________________________________________\n",
       "                     1 x 130 x 4096      \n",
       "Linear                                    4198400    True      \n",
       "____________________________________________________________________________\n",
       "                     1 x 130 x 1024      \n",
       "Linear                                    4195328    True      \n",
       "LayerNorm                                 2048       True      \n",
       "LayerNorm                                 2048       True      \n",
       "LayerNorm                                 2048       True      \n",
       "____________________________________________________________________________\n",
       "                     1 x 130 x 250054    \n",
       "Linear                                    256055296  False     \n",
       "____________________________________________________________________________\n",
       "\n",
       "Total params: 1,379,045,376\n",
       "Total trainable params: 201,617,408\n",
       "Total non-trainable params: 1,177,427,968\n",
       "\n",
       "Optimizer used: functools.partial(<function Adam at 0x7fed2a08ff70>)\n",
       "Loss function: FlattenedLoss of CrossEntropyLoss()\n",
       "\n",
       "Model frozen up to parameter group #2\n",
       "\n",
       "Callbacks:\n",
       "  - TrainEvalCallback\n",
       "  - BaseModelCallback\n",
       "  - CastToTensor\n",
       "  - Recorder\n",
       "  - ProgressCallback"
      ]
     },
     "execution_count": 13,
     "metadata": {},
     "output_type": "execute_result"
    }
   ],
   "source": [
    "model = BaseModelWrapper(hf_model)\n",
    "learn_cbs = [BaseModelCallback]\n",
    "fit_cbs = [Seq2SeqMetricsCallback(custom_metrics=seq2seq_metrics)]\n",
    "\n",
    "learn = Learner(\n",
    "    dls,\n",
    "    model,\n",
    "    opt_func=partial(Adam),\n",
    "    loss_func=CrossEntropyLossFlat(),\n",
    "    cbs=learn_cbs,\n",
    "    splitter=partial(blurr_seq2seq_splitter, arch=hf_arch),\n",
    ")\n",
    "\n",
    "#learn = learn.to_native_fp16() #.to_fp16()\n",
    "learn.freeze()\n",
    "learn.summary()"
   ]
  },
  {
   "cell_type": "code",
   "execution_count": 14,
   "metadata": {
    "id": "VVIgkNLD306l",
    "scrolled": true
   },
   "outputs": [
    {
     "data": {
      "text/html": [
       "\n",
       "<style>\n",
       "    /* Turns off some styling */\n",
       "    progress {\n",
       "        /* gets rid of default border in Firefox and Opera. */\n",
       "        border: none;\n",
       "        /* Needs to be in here for Safari polyfill so background images work as expected. */\n",
       "        background-size: auto;\n",
       "    }\n",
       "    progress:not([value]), progress:not([value])::-webkit-progress-bar {\n",
       "        background: repeating-linear-gradient(45deg, #7e7e7e, #7e7e7e 10px, #5c5c5c 10px, #5c5c5c 20px);\n",
       "    }\n",
       "    .progress-bar-interrupted, .progress-bar-interrupted::-webkit-progress-bar {\n",
       "        background: #F44336;\n",
       "    }\n",
       "</style>\n"
      ],
      "text/plain": [
       "<IPython.core.display.HTML object>"
      ]
     },
     "metadata": {},
     "output_type": "display_data"
    },
    {
     "data": {
      "text/html": [],
      "text/plain": [
       "<IPython.core.display.HTML object>"
      ]
     },
     "metadata": {},
     "output_type": "display_data"
    },
    {
     "data": {
      "text/plain": [
       "SuggestedLRs(minimum=0.0005248074419796466, steep=1.5848931980144698e-06, valley=0.0003311311302240938, slide=0.00019054606673307717)"
      ]
     },
     "execution_count": 14,
     "metadata": {},
     "output_type": "execute_result"
    },
    {
     "data": {
      "image/png": "[encoded data removed]",
      "text/plain": [
       "<Figure size 432x288 with 1 Axes>"
      ]
     },
     "metadata": {
      "needs_background": "light"
     },
     "output_type": "display_data"
    }
   ],
   "source": [
    "learn.lr_find(suggest_funcs=[minimum, steep, valley, slide])"
   ]
  },
  {
   "cell_type": "code",
   "execution_count": 14,
   "metadata": {},
   "outputs": [
    {
     "data": {
      "text/html": [
       "\n",
       "<style>\n",
       "    /* Turns off some styling */\n",
       "    progress {\n",
       "        /* gets rid of default border in Firefox and Opera. */\n",
       "        border: none;\n",
       "        /* Needs to be in here for Safari polyfill so background images work as expected. */\n",
       "        background-size: auto;\n",
       "    }\n",
       "    progress:not([value]), progress:not([value])::-webkit-progress-bar {\n",
       "        background: repeating-linear-gradient(45deg, #7e7e7e, #7e7e7e 10px, #5c5c5c 10px, #5c5c5c 20px);\n",
       "    }\n",
       "    .progress-bar-interrupted, .progress-bar-interrupted::-webkit-progress-bar {\n",
       "        background: #F44336;\n",
       "    }\n",
       "</style>\n"
      ],
      "text/plain": [
       "<IPython.core.display.HTML object>"
      ]
     },
     "metadata": {},
     "output_type": "display_data"
    },
    {
     "data": {
      "text/html": [
       "<table border=\"1\" class=\"dataframe\">\n",
       "  <thead>\n",
       "    <tr style=\"text-align: left;\">\n",
       "      <th>epoch</th>\n",
       "      <th>train_loss</th>\n",
       "      <th>valid_loss</th>\n",
       "      <th>rouge1</th>\n",
       "      <th>rouge2</th>\n",
       "      <th>rougeL</th>\n",
       "      <th>rougeLsum</th>\n",
       "      <th>bertscore_precision</th>\n",
       "      <th>bertscore_recall</th>\n",
       "      <th>bertscore_f1</th>\n",
       "      <th>time</th>\n",
       "    </tr>\n",
       "  </thead>\n",
       "  <tbody>\n",
       "    <tr>\n",
       "      <td>0</td>\n",
       "      <td>3.687307</td>\n",
       "      <td>3.640873</td>\n",
       "      <td>0.309830</td>\n",
       "      <td>0.121615</td>\n",
       "      <td>0.244606</td>\n",
       "      <td>0.244682</td>\n",
       "      <td>0.705932</td>\n",
       "      <td>0.661241</td>\n",
       "      <td>0.682056</td>\n",
       "      <td>23:37</td>\n",
       "    </tr>\n",
       "    <tr>\n",
       "      <td>1</td>\n",
       "      <td>2.434027</td>\n",
       "      <td>2.700396</td>\n",
       "      <td>0.416706</td>\n",
       "      <td>0.219104</td>\n",
       "      <td>0.345381</td>\n",
       "      <td>0.345113</td>\n",
       "      <td>0.764131</td>\n",
       "      <td>0.706426</td>\n",
       "      <td>0.733476</td>\n",
       "      <td>22:43</td>\n",
       "    </tr>\n",
       "    <tr>\n",
       "      <td>2</td>\n",
       "      <td>1.119833</td>\n",
       "      <td>1.905820</td>\n",
       "      <td>0.571923</td>\n",
       "      <td>0.406836</td>\n",
       "      <td>0.510689</td>\n",
       "      <td>0.510788</td>\n",
       "      <td>0.826971</td>\n",
       "      <td>0.776418</td>\n",
       "      <td>0.800324</td>\n",
       "      <td>23:50</td>\n",
       "    </tr>\n",
       "    <tr>\n",
       "      <td>3</td>\n",
       "      <td>0.650932</td>\n",
       "      <td>1.837321</td>\n",
       "      <td>0.622281</td>\n",
       "      <td>0.477601</td>\n",
       "      <td>0.573849</td>\n",
       "      <td>0.573709</td>\n",
       "      <td>0.850761</td>\n",
       "      <td>0.804794</td>\n",
       "      <td>0.826564</td>\n",
       "      <td>24:13</td>\n",
       "    </tr>\n",
       "  </tbody>\n",
       "</table>"
      ],
      "text/plain": [
       "<IPython.core.display.HTML object>"
      ]
     },
     "metadata": {},
     "output_type": "display_data"
    }
   ],
   "source": [
    "#4 ciclos modelo base de mBART eslamxm/MBART-finetuned-Spanish (50, 10) batch size= 1\n",
    "learn.fit_one_cycle(4, lr_max=0.0006309573538601399, cbs=fit_cbs)"
   ]
  },
  {
   "cell_type": "markdown",
   "metadata": {},
   "source": [
    "#### Exporting and importing trained model "
   ]
  },
  {
   "cell_type": "code",
   "execution_count": null,
   "metadata": {},
   "outputs": [],
   "source": [
    "#EXPORT MODEL\n",
    "learn.metrics=None\n",
    "learn=learn.to_fp32()\n",
    "learn.export(fname='4cycles50_10bs1.pkl')"
   ]
  },
  {
   "cell_type": "code",
   "execution_count": 6,
   "metadata": {},
   "outputs": [],
   "source": [
    "infer=load_learner(fname='4cycles50_10bs1.pkl')"
   ]
  },
  {
   "cell_type": "markdown",
   "metadata": {},
   "source": [
    "# TEST"
   ]
  },
  {
   "cell_type": "code",
   "execution_count": 4,
   "metadata": {},
   "outputs": [
    {
     "name": "stdout",
     "output_type": "stream",
     "text": [
      "1413\n"
     ]
    },
    {
     "name": "stderr",
     "output_type": "stream",
     "text": [
      "/tmp/ipykernel_803648/1431170592.py:1: FutureWarning: The error_bad_lines argument has been deprecated and will be removed in a future version. Use on_bad_lines in the future.\n",
      "\n",
      "\n",
      "  df2 = pd.read_csv('Datasets/test.csv', error_bad_lines=False, sep=';')\n"
     ]
    }
   ],
   "source": [
    "df2 = pd.read_csv('Datasets/test.csv', error_bad_lines=False, sep=';')\n",
    "df2 = df2[['cod','original','simplified']]\n",
    "\n",
    "df2 = df2.applymap(str)\n",
    "articles2 = df2\n",
    "\n",
    "\n",
    "n_labels2 = len(articles2[\"original\"].unique())\n",
    "print(n_labels2)\n",
    "#articles2"
   ]
  },
  {
   "cell_type": "code",
   "execution_count": 18,
   "metadata": {
    "scrolled": true
   },
   "outputs": [
    {
     "data": {
      "text/html": [
       "<div>\n",
       "<style scoped>\n",
       "    .dataframe tbody tr th:only-of-type {\n",
       "        vertical-align: middle;\n",
       "    }\n",
       "\n",
       "    .dataframe tbody tr th {\n",
       "        vertical-align: top;\n",
       "    }\n",
       "\n",
       "    .dataframe thead th {\n",
       "        text-align: right;\n",
       "    }\n",
       "</style>\n",
       "<table border=\"1\" class=\"dataframe\">\n",
       "  <thead>\n",
       "    <tr style=\"text-align: right;\">\n",
       "      <th></th>\n",
       "      <th>cod</th>\n",
       "      <th>original</th>\n",
       "      <th>simplified</th>\n",
       "    </tr>\n",
       "  </thead>\n",
       "  <tbody>\n",
       "    <tr>\n",
       "      <th>0</th>\n",
       "      <td>4921</td>\n",
       "      <td>House de la psicología” por su modo de expresarse directo y su uso apabullante de la lógica.</td>\n",
       "      <td>House de la psicología” por su modo de expresarse directo y su uso apabullante de la razonamiento.</td>\n",
       "    </tr>\n",
       "    <tr>\n",
       "      <th>1</th>\n",
       "      <td>151</td>\n",
       "      <td>Ambas han coincidido en la necesidad de apostar por una atención sanitaria más personalizada, multidisciplinar y corresponsable, que cuente con la participación efectiva de pacientes y organizaciones de pacientes, y en la que las intervenciones vayan encaminadas a liberar recursos económicos y de tiempo</td>\n",
       "      <td>Ambas han coincidido en la necesidad de apostar por una atención sanitaria más personalizada, multidisciplinar y corresponsable, que cuente con la participación real de pacientes y organizaciones de pacientes, y en la que las intervenciones vayan encaminadas a liberar recursos económicos y de tiempo</td>\n",
       "    </tr>\n",
       "    <tr>\n",
       "      <th>2</th>\n",
       "      <td>3830</td>\n",
       "      <td>En él fue enterrado en 1616 por propio deseo Miguel de Cervantes, que además de vecino del barrio y haber tenido su última morada en la cercana calle de Francos, (de Cervantes ahora)</td>\n",
       "      <td>En él fue enterrado en 1616 por propio deseo Miguel de Cervantes, que además de vecino del barrio y haber tenido su última  residencia en la cercana calle de Francos, (de Cervantes ahora)</td>\n",
       "    </tr>\n",
       "    <tr>\n",
       "      <th>3</th>\n",
       "      <td>5023</td>\n",
       "      <td>Tengo la convicción de que el envejecimiento activo y la solidaridad intergeneracional requieren, entre otras cosas, de la participación de cada persona en la sociedad a lo largo de la vida, de forma que se aseguren las oportunidades y el acceso a los servicios, las actividades políticas, sociales, recreativas y culturales, así como el voluntariado, porque con todo ello ayuda a mantener a las personas mayores en las redes de relación social, reduciendo su aislamiento.</td>\n",
       "      <td>Tengo la convicción de que el envejecimiento activo y la solidaridad intergeneracional requieren, entre otras cosas, de la participación de cada persona en la sociedad a lo largo de la vida, de forma que se aseguren las oportunidades y el acceso a los servicios, las actividades políticas, sociales, de entretenimiento y culturales, así como el voluntariado, porque con todo ello ayuda a mantener a las personas mayores en las redes de relación social, reduciendo su aislamiento.</td>\n",
       "    </tr>\n",
       "    <tr>\n",
       "      <th>4</th>\n",
       "      <td>1908</td>\n",
       "      <td>El sol es esencial para la vida, pero también presenta efectos negativos para la salud que pueden derivar de exposiciones inadecuadas.Resultan especialmente nocivas las exposiciones sin protección en las edades infantiles y juveniles, que se relacionan con un mayor riesgo de padecer cáncer de piel.</td>\n",
       "      <td>El sol es esencial para la vida, pero también presenta efectos  contraproducentes para la salud que pueden derivar de exposiciones inadecuadas.Resultan especialmente nocivas las exposiciones sin protección en las edades infantiles y juveniles, que se relacionan con un mayor riesgo de padecer cáncer de piel.</td>\n",
       "    </tr>\n",
       "    <tr>\n",
       "      <th>...</th>\n",
       "      <td>...</td>\n",
       "      <td>...</td>\n",
       "      <td>...</td>\n",
       "    </tr>\n",
       "    <tr>\n",
       "      <th>1820</th>\n",
       "      <td>4596</td>\n",
       "      <td>Después de la guerra, Agapito estuvo en la cárcel, estuvo menospreciado mucho tiempo porque era republicano y todo eso</td>\n",
       "      <td>Después de la guerra, Agapito estuvo en la cárcel, estuvo arrinconado mucho tiempo porque era republicano y todo eso</td>\n",
       "    </tr>\n",
       "    <tr>\n",
       "      <th>1821</th>\n",
       "      <td>2359</td>\n",
       "      <td>\"Este procedimiento culminará con la elaboración de un real decreto muy esperado por la comunidad sorda, ya que implica el compromiso ineludible con la difusión, transmisión, documentación, investigación, preservación, protección, promoción, valorización y revitalización de estas lenguas largamente minorizadas\", explicó la CNSE</td>\n",
       "      <td>\"Este procedimiento  terminará con la elaboración de un real decreto muy esperado por la comunidad sorda, ya que implica el compromiso ineludible con la difusión, transmisión, documentación, investigación, preservación, protección, promoción, valorización y revitalización de estas lenguas largamente minorizadas\", explicó la CNSE</td>\n",
       "    </tr>\n",
       "    <tr>\n",
       "      <th>1822</th>\n",
       "      <td>2247</td>\n",
       "      <td>Se trata de una metodología que normalmente se aplica en el centro con un profesional de apoyo, pero también ofrece la posibilidad de que estas sesiones se desarrollen en casa en el caso de que los participantes tengan dificultades para acudir al centro.\\nP</td>\n",
       "      <td>Se trata de una metodología que normalmente se trabaja en el centro con un profesional de apoyo, pero también ofrece la posibilidad de que estas sesiones se desarrollen en casa en el caso de que los participantes tengan dificultades para acudir al centro.\\nP</td>\n",
       "    </tr>\n",
       "    <tr>\n",
       "      <th>1823</th>\n",
       "      <td>1240</td>\n",
       "      <td>Otro de los retos, “que se ha hecho más evidente durante la crisis”, es la limitada capacidad del sistema de protección social para lidiar con las crecientes desigualdades y la pobreza</td>\n",
       "      <td>Otro de los retos, “que se ha hecho más evidente durante la crisis”, es la poca capacidad del sistema de protección social para lidiar con las crecientes desigualdades y la pobreza</td>\n",
       "    </tr>\n",
       "    <tr>\n",
       "      <th>1824</th>\n",
       "      <td>5718</td>\n",
       "      <td>La genética es un campo emergente y activo en la dermatología ya que muchas de las alteraciones de la piel tienen un componente genético, bien en forma de mutaciones causantes de patología o de variantes moduladoras y de predisposición</td>\n",
       "      <td>La genética es un campo emergente y activo en la dermatología ya que muchas de las alteraciones de la piel tienen un componente genético, bien en forma de  trasformaciones causantes de patología o de variantes moduladoras y de predisposición</td>\n",
       "    </tr>\n",
       "  </tbody>\n",
       "</table>\n",
       "<p>1825 rows × 3 columns</p>\n",
       "</div>"
      ],
      "text/plain": [
       "       cod  \\\n",
       "0     4921   \n",
       "1      151   \n",
       "2     3830   \n",
       "3     5023   \n",
       "4     1908   \n",
       "...    ...   \n",
       "1820  4596   \n",
       "1821  2359   \n",
       "1822  2247   \n",
       "1823  1240   \n",
       "1824  5718   \n",
       "\n",
       "                                                                                                                                                                                                                                                                                                                                                                                                                                                                                      original  \\\n",
       "0                                                                                                                                                                                                                                                                                                                                                                                                 House de la psicología” por su modo de expresarse directo y su uso apabullante de la lógica.   \n",
       "1                                                                                                                                                                             Ambas han coincidido en la necesidad de apostar por una atención sanitaria más personalizada, multidisciplinar y corresponsable, que cuente con la participación efectiva de pacientes y organizaciones de pacientes, y en la que las intervenciones vayan encaminadas a liberar recursos económicos y de tiempo   \n",
       "2                                                                                                                                                                                                                                                                                                       En él fue enterrado en 1616 por propio deseo Miguel de Cervantes, que además de vecino del barrio y haber tenido su última morada en la cercana calle de Francos, (de Cervantes ahora)   \n",
       "3     Tengo la convicción de que el envejecimiento activo y la solidaridad intergeneracional requieren, entre otras cosas, de la participación de cada persona en la sociedad a lo largo de la vida, de forma que se aseguren las oportunidades y el acceso a los servicios, las actividades políticas, sociales, recreativas y culturales, así como el voluntariado, porque con todo ello ayuda a mantener a las personas mayores en las redes de relación social, reduciendo su aislamiento.   \n",
       "4                                                                                                                                                                                  El sol es esencial para la vida, pero también presenta efectos negativos para la salud que pueden derivar de exposiciones inadecuadas.Resultan especialmente nocivas las exposiciones sin protección en las edades infantiles y juveniles, que se relacionan con un mayor riesgo de padecer cáncer de piel.   \n",
       "...                                                                                                                                                                                                                                                                                                                                                                                                                                                                                        ...   \n",
       "1820                                                                                                                                                                                                                                                                                                                                                                    Después de la guerra, Agapito estuvo en la cárcel, estuvo menospreciado mucho tiempo porque era republicano y todo eso   \n",
       "1821                                                                                                                                                 \"Este procedimiento culminará con la elaboración de un real decreto muy esperado por la comunidad sorda, ya que implica el compromiso ineludible con la difusión, transmisión, documentación, investigación, preservación, protección, promoción, valorización y revitalización de estas lenguas largamente minorizadas\", explicó la CNSE   \n",
       "1822                                                                                                                                                                                                                         Se trata de una metodología que normalmente se aplica en el centro con un profesional de apoyo, pero también ofrece la posibilidad de que estas sesiones se desarrollen en casa en el caso de que los participantes tengan dificultades para acudir al centro.\\nP   \n",
       "1823                                                                                                                                                                                                                                                                                                  Otro de los retos, “que se ha hecho más evidente durante la crisis”, es la limitada capacidad del sistema de protección social para lidiar con las crecientes desigualdades y la pobreza   \n",
       "1824                                                                                                                                                                                                                                               La genética es un campo emergente y activo en la dermatología ya que muchas de las alteraciones de la piel tienen un componente genético, bien en forma de mutaciones causantes de patología o de variantes moduladoras y de predisposición   \n",
       "\n",
       "                                                                                                                                                                                                                                                                                                                                                                                                                                                                                           simplified  \n",
       "0                                                                                                                                                                                                                                                                                                                                                                                                  House de la psicología” por su modo de expresarse directo y su uso apabullante de la razonamiento.  \n",
       "1                                                                                                                                                                                        Ambas han coincidido en la necesidad de apostar por una atención sanitaria más personalizada, multidisciplinar y corresponsable, que cuente con la participación real de pacientes y organizaciones de pacientes, y en la que las intervenciones vayan encaminadas a liberar recursos económicos y de tiempo  \n",
       "2                                                                                                                                                                                                                                                                                                         En él fue enterrado en 1616 por propio deseo Miguel de Cervantes, que además de vecino del barrio y haber tenido su última  residencia en la cercana calle de Francos, (de Cervantes ahora)  \n",
       "3     Tengo la convicción de que el envejecimiento activo y la solidaridad intergeneracional requieren, entre otras cosas, de la participación de cada persona en la sociedad a lo largo de la vida, de forma que se aseguren las oportunidades y el acceso a los servicios, las actividades políticas, sociales, de entretenimiento y culturales, así como el voluntariado, porque con todo ello ayuda a mantener a las personas mayores en las redes de relación social, reduciendo su aislamiento.  \n",
       "4                                                                                                                                                                                El sol es esencial para la vida, pero también presenta efectos  contraproducentes para la salud que pueden derivar de exposiciones inadecuadas.Resultan especialmente nocivas las exposiciones sin protección en las edades infantiles y juveniles, que se relacionan con un mayor riesgo de padecer cáncer de piel.  \n",
       "...                                                                                                                                                                                                                                                                                                                                                                                                                                                                                               ...  \n",
       "1820                                                                                                                                                                                                                                                                                                                                                                             Después de la guerra, Agapito estuvo en la cárcel, estuvo arrinconado mucho tiempo porque era republicano y todo eso  \n",
       "1821                                                                                                                                                       \"Este procedimiento  terminará con la elaboración de un real decreto muy esperado por la comunidad sorda, ya que implica el compromiso ineludible con la difusión, transmisión, documentación, investigación, preservación, protección, promoción, valorización y revitalización de estas lenguas largamente minorizadas\", explicó la CNSE  \n",
       "1822                                                                                                                                                                                                                               Se trata de una metodología que normalmente se trabaja en el centro con un profesional de apoyo, pero también ofrece la posibilidad de que estas sesiones se desarrollen en casa en el caso de que los participantes tengan dificultades para acudir al centro.\\nP  \n",
       "1823                                                                                                                                                                                                                                                                                                             Otro de los retos, “que se ha hecho más evidente durante la crisis”, es la poca capacidad del sistema de protección social para lidiar con las crecientes desigualdades y la pobreza  \n",
       "1824                                                                                                                                                                                                                                                La genética es un campo emergente y activo en la dermatología ya que muchas de las alteraciones de la piel tienen un componente genético, bien en forma de  trasformaciones causantes de patología o de variantes moduladoras y de predisposición  \n",
       "\n",
       "[1825 rows x 3 columns]"
      ]
     },
     "execution_count": 18,
     "metadata": {},
     "output_type": "execute_result"
    }
   ],
   "source": [
    "articles2"
   ]
  },
  {
   "cell_type": "markdown",
   "metadata": {},
   "source": [
    "# Predict on one example"
   ]
  },
  {
   "cell_type": "code",
   "execution_count": 12,
   "metadata": {},
   "outputs": [
    {
     "name": "stdout",
     "output_type": "stream",
     "text": [
      "ORIGINAL: Ambas han coincidido en la necesidad de apostar por una atención sanitaria más personalizada, multidisciplinar y corresponsable, que cuente con la participación efectiva de pacientes y organizaciones de pacientes, y en la que las intervenciones vayan encaminadas a liberar recursos económicos y de tiempo\n"
     ]
    }
   ],
   "source": [
    "print(\"ORIGINAL: \"+articles2[\"original\"][1])"
   ]
  },
  {
   "cell_type": "code",
   "execution_count": 13,
   "metadata": {},
   "outputs": [
    {
     "name": "stdout",
     "output_type": "stream",
     "text": [
      "SIMPLIFIED: Ambas han coincidido en la necesidad de apostar por una atención sanitaria más personalizada, multidisciplinar y corresponsable, que cuente con la participación real de pacientes y organizaciones de pacientes, y en la que las intervenciones vayan encaminadas a liberar recursos económicos y de tiempo\n"
     ]
    }
   ],
   "source": [
    "print(\"SIMPLIFIED: \"+articles2[\"simplified\"][1])"
   ]
  },
  {
   "cell_type": "markdown",
   "metadata": {},
   "source": [
    "#### Prediction"
   ]
  },
  {
   "cell_type": "code",
   "execution_count": 7,
   "metadata": {},
   "outputs": [],
   "source": [
    "output = infer.blurr_generate(articles2[\"original\"][1], num_return_sequences=1)"
   ]
  },
  {
   "cell_type": "code",
   "execution_count": 8,
   "metadata": {},
   "outputs": [
    {
     "data": {
      "text/plain": [
       "[{'generated_texts': 'Ante la necesidad de proporcionar a las asociaciones sanitarias, con el tiempo de financiación de la participación de las organizaciones cuádrices, y con el objetivo de llegar a las organizaciones cuádrices de pacientes.'}]"
      ]
     },
     "execution_count": 8,
     "metadata": {},
     "output_type": "execute_result"
    }
   ],
   "source": [
    "output"
   ]
  }
 ],
 "metadata": {
  "accelerator": "GPU",
  "colab": {
   "name": "text_simplification.ipynb",
   "provenance": []
  },
  "kernelspec": {
   "display_name": "Python 3 (ipykernel)",
   "language": "python",
   "name": "python3"
  },
  "language_info": {
   "codemirror_mode": {
    "name": "ipython",
    "version": 3
   },
   "file_extension": ".py",
   "mimetype": "text/x-python",
   "name": "python",
   "nbconvert_exporter": "python",
   "pygments_lexer": "ipython3",
   "version": "3.8.10"
  }
 },
 "nbformat": 4,
 "nbformat_minor": 1
}
